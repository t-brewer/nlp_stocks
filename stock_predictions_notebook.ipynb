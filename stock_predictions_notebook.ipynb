{
 "cells": [
  {
   "cell_type": "markdown",
   "metadata": {},
   "source": [
    "# Predicting Dowe Jones Stock Values Using News Headlines\n",
    "\n",
    "### Motivation : \n",
    "Predictions in quantitative finance are typically based solely on historical data. Here I see if I can add predicitive power to a model incorporating news headlines into the data, and also sentiment analysis. \n",
    "\n",
    "### Summary : \n",
    "\n",
    "I use a dataset from Kaggle with about 74,000 headlines from 2008-06-08 to 2016-07-01, and historical data of Dowe Jones Industrial Average within the same time frame.  To keep it simple, we only try to predict the *Adjusted Closing Price* from each day, and build three different models for comparison : \n",
    "<br>\n",
    "- Purely Historical Based\n",
    "- Historical + News Headlines (NLP)\n",
    "- Historical + News Headlines + Sentiment Analysis of headlines\n",
    "<br>\n",
    "The model itself is a Deep Neural Network with the following topography : \n",
    "\n",
    "**Input: ** Closing price of the past 30 days (+ corresponding headlines) (+ sentiment analysis)<br>\n",
    "**First Layer : ** 500 Nodes with SoftPlus Activation<br>\n",
    "**Second Layer :** 300 Nodes with SoftPlus Activation<br>\n",
    "**Third Layer :** 200 Nodes with SoftPlus Activation<br>\n",
    "**Fourth Layer :** 100 Nodes with SoftPlus Activation<br>\n",
    "**Ouput :** Adjusted Closing Price for a given day. <br>\n",
    "<br>\n",
    "\n",
    "Text is vectorized using Bag of Words approach. \n",
    "\n",
    "### Results : \n",
    "\n",
    "First glance suggests that simply adding text to the results actually reduces the predictions accuracy.  This could be due to too many features being incorporated, and adding \"chaos\" to the system.  But, included with sentiment analysis gives slightly more accurate predictions.  Furthers tests need to be implemented to check if there is the difference is statistically significant. "
   ]
  },
  {
   "cell_type": "markdown",
   "metadata": {},
   "source": [
    "# The Code"
   ]
  },
  {
   "cell_type": "code",
   "execution_count": 2,
   "metadata": {
    "collapsed": true
   },
   "outputs": [],
   "source": [
    "# Import Libraries\n",
    "# Basic\n",
    "import pandas as pd\n",
    "import numpy as np\n",
    "import string\n",
    "from datetime import datetime, timedelta\n",
    "\n",
    "# Plotting\n",
    "import matplotlib.pyplot as plt\n",
    "%matplotlib inline\n",
    "import seaborn as sns\n",
    "\n",
    "# NLP \n",
    "from sklearn.feature_extraction.text import CountVectorizer\n",
    "from nltk.corpus import stopwords\n",
    "from nltk.stem import PorterStemmer\n",
    "from textblob import TextBlob\n",
    "\n",
    "# Model Building\n",
    "from sklearn.model_selection import train_test_split\n",
    "import tensorflow as tf\n",
    "from sklearn.metrics import r2_score\n"
   ]
  },
  {
   "cell_type": "markdown",
   "metadata": {},
   "source": [
    "## Import the Data"
   ]
  },
  {
   "cell_type": "code",
   "execution_count": 3,
   "metadata": {
    "collapsed": true
   },
   "outputs": [],
   "source": [
    "# Import data as Pandas Dataframe\n",
    "news = pd.read_csv('RedditNews.csv')\n",
    "stocks = pd.read_csv('DJIA_table.csv')\n",
    "\n",
    "# Rename Columns\n",
    "news.columns = [c.strip().lower().replace(' ', '_') for c in news.columns]\n",
    "stocks.columns = [c.strip().lower().replace(' ', '_') for c in stocks.columns]\n",
    "\n",
    "# Convert date string to datetime object\n",
    "news.date   = pd.to_datetime(news.date)\n",
    "stocks.date = pd.to_datetime(stocks.date)\n",
    "\n",
    "# Some strings were supposed to be represented as bytes, but it just adds a b' to the string.  We replace that\n",
    "# with nothing. \n",
    "news.news = news.news.apply(lambda x: x.replace(\"b'\", \"\"))\n",
    "news.news = news.news.apply(lambda x: x.replace('b\"', ''))\n",
    "\n",
    "# For this project, I am only using adjusted closing prices so I will drop the other values in teh stocks data.\n",
    "stocks = stocks[['date', 'adj_close']]"
   ]
  },
  {
   "cell_type": "markdown",
   "metadata": {},
   "source": [
    "## Sentiment Analysis\n",
    "\n",
    "Using the TextBlob library, we can associate each work in a string with a general sentiment or polarity (positive or negative (-1, 1), and a subjectivity value (-1, 1).  That is, \"I love cheese\" would be a subjective statement.  To simplify the process, we define two functions : one that will return the subjectivity, and one that will return the polarity. "
   ]
  },
  {
   "cell_type": "code",
   "execution_count": 4,
   "metadata": {
    "collapsed": true
   },
   "outputs": [],
   "source": [
    "def get_polarity(text):\n",
    "    return TextBlob(text).sentiment.polarity\n",
    "\n",
    "def get_subjectivity(text):\n",
    "    return TextBlob(text).sentiment.subjectivity"
   ]
  },
  {
   "cell_type": "code",
   "execution_count": 5,
   "metadata": {
    "collapsed": true
   },
   "outputs": [],
   "source": [
    "news['polarity'] = news.news.apply(get_polarity)\n",
    "news['subjectivity'] = news.news.apply(get_subjectivity)"
   ]
  },
  {
   "cell_type": "code",
   "execution_count": 6,
   "metadata": {},
   "outputs": [
    {
     "data": {
      "text/html": [
       "<div>\n",
       "<style>\n",
       "    .dataframe thead tr:only-child th {\n",
       "        text-align: right;\n",
       "    }\n",
       "\n",
       "    .dataframe thead th {\n",
       "        text-align: left;\n",
       "    }\n",
       "\n",
       "    .dataframe tbody tr th {\n",
       "        vertical-align: top;\n",
       "    }\n",
       "</style>\n",
       "<table border=\"1\" class=\"dataframe\">\n",
       "  <thead>\n",
       "    <tr style=\"text-align: right;\">\n",
       "      <th></th>\n",
       "      <th>date</th>\n",
       "      <th>news</th>\n",
       "      <th>polarity</th>\n",
       "      <th>subjectivity</th>\n",
       "    </tr>\n",
       "  </thead>\n",
       "  <tbody>\n",
       "    <tr>\n",
       "      <th>0</th>\n",
       "      <td>2016-07-01</td>\n",
       "      <td>A 117-year-old woman in Mexico City finally re...</td>\n",
       "      <td>-0.066667</td>\n",
       "      <td>0.366667</td>\n",
       "    </tr>\n",
       "    <tr>\n",
       "      <th>1</th>\n",
       "      <td>2016-07-01</td>\n",
       "      <td>IMF chief backs Athens as permanent Olympic host</td>\n",
       "      <td>0.000000</td>\n",
       "      <td>0.000000</td>\n",
       "    </tr>\n",
       "    <tr>\n",
       "      <th>2</th>\n",
       "      <td>2016-07-01</td>\n",
       "      <td>The president of France says if Brexit won, so...</td>\n",
       "      <td>0.000000</td>\n",
       "      <td>0.000000</td>\n",
       "    </tr>\n",
       "    <tr>\n",
       "      <th>3</th>\n",
       "      <td>2016-07-01</td>\n",
       "      <td>British Man Who Must Give Police 24 Hours' Not...</td>\n",
       "      <td>0.111111</td>\n",
       "      <td>0.388889</td>\n",
       "    </tr>\n",
       "    <tr>\n",
       "      <th>4</th>\n",
       "      <td>2016-07-01</td>\n",
       "      <td>100+ Nobel laureates urge Greenpeace to stop o...</td>\n",
       "      <td>0.000000</td>\n",
       "      <td>0.000000</td>\n",
       "    </tr>\n",
       "  </tbody>\n",
       "</table>\n",
       "</div>"
      ],
      "text/plain": [
       "        date                                               news  polarity  \\\n",
       "0 2016-07-01  A 117-year-old woman in Mexico City finally re... -0.066667   \n",
       "1 2016-07-01   IMF chief backs Athens as permanent Olympic host  0.000000   \n",
       "2 2016-07-01  The president of France says if Brexit won, so...  0.000000   \n",
       "3 2016-07-01  British Man Who Must Give Police 24 Hours' Not...  0.111111   \n",
       "4 2016-07-01  100+ Nobel laureates urge Greenpeace to stop o...  0.000000   \n",
       "\n",
       "   subjectivity  \n",
       "0      0.366667  \n",
       "1      0.000000  \n",
       "2      0.000000  \n",
       "3      0.388889  \n",
       "4      0.000000  "
      ]
     },
     "execution_count": 6,
     "metadata": {},
     "output_type": "execute_result"
    }
   ],
   "source": [
    "news.head()"
   ]
  },
  {
   "cell_type": "markdown",
   "metadata": {},
   "source": [
    "## Start Cleaning the Text.  \n",
    "\n",
    "Now that we have extracted polarity and subjectivity from the text, we can start cleaning it.  For this we use the following function which removes punctuation, stopwords, numbers, etc..."
   ]
  },
  {
   "cell_type": "code",
   "execution_count": 7,
   "metadata": {
    "collapsed": true
   },
   "outputs": [],
   "source": [
    "# Text Preprocessor : \n",
    "def process_text(text, stemmer, stop_words):\n",
    "    \n",
    "    # Make all characters in text lower case\n",
    "    text = text.strip().lower()\n",
    "    \n",
    "    # Remove Punctuation\n",
    "    text = text.translate(str.maketrans('', '', string.punctuation)) # Remove punctuation\n",
    "    text = text.translate(str.maketrans('', '', string.digits))      # remove numbers\n",
    "    \n",
    "    # Split text into all its different words, and process the words individually\n",
    "    new_text = []\n",
    "    for w in text.split():\n",
    "        w = w.strip() # make sure there a no extra white spaces\n",
    "        if w in stop_words:\n",
    "            # Go to next iteration if w is a stop word\n",
    "            continue\n",
    "        \n",
    "        else:\n",
    "            # Get rid of any left over apostrophes\n",
    "            w.replace(\"'\", \" \")\n",
    "        \n",
    "            # Stem words and append new word to a list\n",
    "            w = stemmer.stem(w)\n",
    "            new_text.append(w)\n",
    "    \n",
    "    # Return processed words as one long string\n",
    "    return ' '.join(new_text)"
   ]
  },
  {
   "cell_type": "code",
   "execution_count": 8,
   "metadata": {
    "collapsed": true
   },
   "outputs": [],
   "source": [
    "news.news = news.news.apply(lambda x : process_text(x, PorterStemmer(), stopwords.words('english')))"
   ]
  },
  {
   "cell_type": "code",
   "execution_count": 9,
   "metadata": {},
   "outputs": [
    {
     "data": {
      "text/html": [
       "<div>\n",
       "<style>\n",
       "    .dataframe thead tr:only-child th {\n",
       "        text-align: right;\n",
       "    }\n",
       "\n",
       "    .dataframe thead th {\n",
       "        text-align: left;\n",
       "    }\n",
       "\n",
       "    .dataframe tbody tr th {\n",
       "        vertical-align: top;\n",
       "    }\n",
       "</style>\n",
       "<table border=\"1\" class=\"dataframe\">\n",
       "  <thead>\n",
       "    <tr style=\"text-align: right;\">\n",
       "      <th></th>\n",
       "      <th>date</th>\n",
       "      <th>news</th>\n",
       "      <th>polarity</th>\n",
       "      <th>subjectivity</th>\n",
       "    </tr>\n",
       "  </thead>\n",
       "  <tbody>\n",
       "    <tr>\n",
       "      <th>0</th>\n",
       "      <td>2016-07-01</td>\n",
       "      <td>yearold woman mexico citi final receiv birth c...</td>\n",
       "      <td>-0.066667</td>\n",
       "      <td>0.366667</td>\n",
       "    </tr>\n",
       "    <tr>\n",
       "      <th>1</th>\n",
       "      <td>2016-07-01</td>\n",
       "      <td>imf chief back athen perman olymp host</td>\n",
       "      <td>0.000000</td>\n",
       "      <td>0.000000</td>\n",
       "    </tr>\n",
       "    <tr>\n",
       "      <th>2</th>\n",
       "      <td>2016-07-01</td>\n",
       "      <td>presid franc say brexit donald trump</td>\n",
       "      <td>0.000000</td>\n",
       "      <td>0.000000</td>\n",
       "    </tr>\n",
       "    <tr>\n",
       "      <th>3</th>\n",
       "      <td>2016-07-01</td>\n",
       "      <td>british man must give polic hour notic sex thr...</td>\n",
       "      <td>0.111111</td>\n",
       "      <td>0.388889</td>\n",
       "    </tr>\n",
       "    <tr>\n",
       "      <th>4</th>\n",
       "      <td>2016-07-01</td>\n",
       "      <td>nobel laureat urg greenpeac stop oppos gmo</td>\n",
       "      <td>0.000000</td>\n",
       "      <td>0.000000</td>\n",
       "    </tr>\n",
       "  </tbody>\n",
       "</table>\n",
       "</div>"
      ],
      "text/plain": [
       "        date                                               news  polarity  \\\n",
       "0 2016-07-01  yearold woman mexico citi final receiv birth c... -0.066667   \n",
       "1 2016-07-01             imf chief back athen perman olymp host  0.000000   \n",
       "2 2016-07-01               presid franc say brexit donald trump  0.000000   \n",
       "3 2016-07-01  british man must give polic hour notic sex thr...  0.111111   \n",
       "4 2016-07-01         nobel laureat urg greenpeac stop oppos gmo  0.000000   \n",
       "\n",
       "   subjectivity  \n",
       "0      0.366667  \n",
       "1      0.000000  \n",
       "2      0.000000  \n",
       "3      0.388889  \n",
       "4      0.000000  "
      ]
     },
     "execution_count": 9,
     "metadata": {},
     "output_type": "execute_result"
    }
   ],
   "source": [
    "news.head()"
   ]
  },
  {
   "cell_type": "markdown",
   "metadata": {},
   "source": [
    "## Pooling By Date\n",
    "\n",
    "Because there are multiple articles for each day in this data set, we want to start bringing them together.  For this, we create a `data` dataframe which will hold all of our data, including stock values, dates, a concatenation of headlines from each day, the sum of the polarity for that day, and the sum of the subjectiveness for that day. "
   ]
  },
  {
   "cell_type": "code",
   "execution_count": 10,
   "metadata": {},
   "outputs": [
    {
     "data": {
      "text/html": [
       "<div>\n",
       "<style>\n",
       "    .dataframe thead tr:only-child th {\n",
       "        text-align: right;\n",
       "    }\n",
       "\n",
       "    .dataframe thead th {\n",
       "        text-align: left;\n",
       "    }\n",
       "\n",
       "    .dataframe tbody tr th {\n",
       "        vertical-align: top;\n",
       "    }\n",
       "</style>\n",
       "<table border=\"1\" class=\"dataframe\">\n",
       "  <thead>\n",
       "    <tr style=\"text-align: right;\">\n",
       "      <th></th>\n",
       "      <th>date</th>\n",
       "      <th>news</th>\n",
       "      <th>polarity</th>\n",
       "      <th>subjectivity</th>\n",
       "    </tr>\n",
       "  </thead>\n",
       "  <tbody>\n",
       "    <tr>\n",
       "      <th>0</th>\n",
       "      <td>2008-06-08</td>\n",
       "      <td>nim chimpski tragedi chimp thought boy prove h...</td>\n",
       "      <td>-0.822298</td>\n",
       "      <td>6.321553</td>\n",
       "    </tr>\n",
       "    <tr>\n",
       "      <th>1</th>\n",
       "      <td>2008-06-09</td>\n",
       "      <td>unit state quit human right council pentagon b...</td>\n",
       "      <td>0.653896</td>\n",
       "      <td>5.084416</td>\n",
       "    </tr>\n",
       "    <tr>\n",
       "      <th>2</th>\n",
       "      <td>2008-06-10</td>\n",
       "      <td>oil shortag myth say industri insid israel lau...</td>\n",
       "      <td>-0.727652</td>\n",
       "      <td>3.006439</td>\n",
       "    </tr>\n",
       "    <tr>\n",
       "      <th>3</th>\n",
       "      <td>2008-06-11</td>\n",
       "      <td>bbc uncov lost iraq billion war crimin georg w...</td>\n",
       "      <td>-0.362500</td>\n",
       "      <td>6.212500</td>\n",
       "    </tr>\n",
       "    <tr>\n",
       "      <th>4</th>\n",
       "      <td>2008-06-12</td>\n",
       "      <td>us attack pakistan last night pakistan furi de...</td>\n",
       "      <td>0.915278</td>\n",
       "      <td>7.612500</td>\n",
       "    </tr>\n",
       "  </tbody>\n",
       "</table>\n",
       "</div>"
      ],
      "text/plain": [
       "        date                                               news  polarity  \\\n",
       "0 2008-06-08  nim chimpski tragedi chimp thought boy prove h... -0.822298   \n",
       "1 2008-06-09  unit state quit human right council pentagon b...  0.653896   \n",
       "2 2008-06-10  oil shortag myth say industri insid israel lau... -0.727652   \n",
       "3 2008-06-11  bbc uncov lost iraq billion war crimin georg w... -0.362500   \n",
       "4 2008-06-12  us attack pakistan last night pakistan furi de...  0.915278   \n",
       "\n",
       "   subjectivity  \n",
       "0      6.321553  \n",
       "1      5.084416  \n",
       "2      3.006439  \n",
       "3      6.212500  \n",
       "4      7.612500  "
      ]
     },
     "execution_count": 10,
     "metadata": {},
     "output_type": "execute_result"
    }
   ],
   "source": [
    "# Do some groupby things to get the joined text, and sums of polarity for specific dates (and subjectivity)\n",
    "g1 = pd.DataFrame(news.groupby('date')['news'].apply(lambda x: ' '.join(x)))\n",
    "g2 = pd.DataFrame(news.groupby('date')['polarity'].sum())\n",
    "g3 = pd.DataFrame(news.groupby('date')['subjectivity'].sum())\n",
    "\n",
    "data = pd.DataFrame()\n",
    "data['date'] = g1.index\n",
    "data['news'] = g1['news'].values\n",
    "data['polarity'] = g2['polarity'].values\n",
    "data['subjectivity'] = g3['subjectivity'].values\n",
    "\n",
    "data.head()"
   ]
  },
  {
   "cell_type": "markdown",
   "metadata": {},
   "source": [
    "With this in hand, we still will merge it with the stocks data to have everything in one place. "
   ]
  },
  {
   "cell_type": "code",
   "execution_count": 11,
   "metadata": {
    "collapsed": true
   },
   "outputs": [],
   "source": [
    "# Merge stocks data with news data, since we are targeting values in the stocks data, we will only keep\n",
    "# dates that are present in that one (right merge)\n",
    "data = data.merge(stocks, on='date', how='right')"
   ]
  },
  {
   "cell_type": "code",
   "execution_count": 12,
   "metadata": {},
   "outputs": [
    {
     "data": {
      "text/html": [
       "<div>\n",
       "<style>\n",
       "    .dataframe thead tr:only-child th {\n",
       "        text-align: right;\n",
       "    }\n",
       "\n",
       "    .dataframe thead th {\n",
       "        text-align: left;\n",
       "    }\n",
       "\n",
       "    .dataframe tbody tr th {\n",
       "        vertical-align: top;\n",
       "    }\n",
       "</style>\n",
       "<table border=\"1\" class=\"dataframe\">\n",
       "  <thead>\n",
       "    <tr style=\"text-align: right;\">\n",
       "      <th></th>\n",
       "      <th>date</th>\n",
       "      <th>news</th>\n",
       "      <th>polarity</th>\n",
       "      <th>subjectivity</th>\n",
       "      <th>adj_close</th>\n",
       "    </tr>\n",
       "  </thead>\n",
       "  <tbody>\n",
       "    <tr>\n",
       "      <th>0</th>\n",
       "      <td>2008-08-08</td>\n",
       "      <td>georgia down two russian warplan countri move ...</td>\n",
       "      <td>-1.171873</td>\n",
       "      <td>4.290272</td>\n",
       "      <td>11734.320312</td>\n",
       "    </tr>\n",
       "    <tr>\n",
       "      <th>1</th>\n",
       "      <td>2008-08-11</td>\n",
       "      <td>wont america nato help us wont help us help ir...</td>\n",
       "      <td>1.175505</td>\n",
       "      <td>4.604091</td>\n",
       "      <td>11782.349609</td>\n",
       "    </tr>\n",
       "    <tr>\n",
       "      <th>2</th>\n",
       "      <td>2008-08-12</td>\n",
       "      <td>rememb ador yearold sang open ceremoni fake ru...</td>\n",
       "      <td>-0.986652</td>\n",
       "      <td>9.097799</td>\n",
       "      <td>11642.469727</td>\n",
       "    </tr>\n",
       "    <tr>\n",
       "      <th>3</th>\n",
       "      <td>2008-08-13</td>\n",
       "      <td>us refus israel weapon attack iran report pres...</td>\n",
       "      <td>0.014418</td>\n",
       "      <td>3.896825</td>\n",
       "      <td>11532.959961</td>\n",
       "    </tr>\n",
       "    <tr>\n",
       "      <th>4</th>\n",
       "      <td>2008-08-14</td>\n",
       "      <td>expert admit legalis drug war south osetia pic...</td>\n",
       "      <td>1.266396</td>\n",
       "      <td>7.060714</td>\n",
       "      <td>11615.929688</td>\n",
       "    </tr>\n",
       "  </tbody>\n",
       "</table>\n",
       "</div>"
      ],
      "text/plain": [
       "        date                                               news  polarity  \\\n",
       "0 2008-08-08  georgia down two russian warplan countri move ... -1.171873   \n",
       "1 2008-08-11  wont america nato help us wont help us help ir...  1.175505   \n",
       "2 2008-08-12  rememb ador yearold sang open ceremoni fake ru... -0.986652   \n",
       "3 2008-08-13  us refus israel weapon attack iran report pres...  0.014418   \n",
       "4 2008-08-14  expert admit legalis drug war south osetia pic...  1.266396   \n",
       "\n",
       "   subjectivity     adj_close  \n",
       "0      4.290272  11734.320312  \n",
       "1      4.604091  11782.349609  \n",
       "2      9.097799  11642.469727  \n",
       "3      3.896825  11532.959961  \n",
       "4      7.060714  11615.929688  "
      ]
     },
     "execution_count": 12,
     "metadata": {},
     "output_type": "execute_result"
    }
   ],
   "source": [
    "data.head()"
   ]
  },
  {
   "cell_type": "markdown",
   "metadata": {},
   "source": [
    "## Prepping as Time Series Data\n",
    "\n",
    "Because predictions are basesd on previous values (hence the time series), we need to decide how far back we are going to be looking in terms of news headlines.  Since stocks are a volatile system, we don't need to look too far back, and we have access to historical data so we will choose ** 3 days prior **.  For this we concatenate the strings of a certain date with the strings from the 3 previous days.  We do not want to lose the information from the sentiment analysis from each day, so we will be adding 3 columns to the dataframe.  But let's start by pooling the news from T-3 days.   "
   ]
  },
  {
   "cell_type": "code",
   "execution_count": 13,
   "metadata": {
    "collapsed": true
   },
   "outputs": [],
   "source": [
    "# Define function to pool N-dates. \n",
    "def pool_Ndays(N, date, df):\n",
    "    # Get text from t previous days before; \n",
    "    # append everything (including current day) as one long string\n",
    "    # re\n",
    "    \n",
    "    # ensure this is a copy not a view of the DataFrame\n",
    "    df = df.copy()\n",
    "    \n",
    "    text = df[(df.date <= date) & (df.date >= (date - timedelta(N)))].news.values\n",
    "    text = \" \".join(text)\n",
    "    \n",
    "    return text"
   ]
  },
  {
   "cell_type": "code",
   "execution_count": 14,
   "metadata": {
    "collapsed": true
   },
   "outputs": [],
   "source": [
    "# Pool 90 Days of headlines, and replace the text in the news column with the pooled text\n",
    "data.news = data.date.apply(lambda x: pool_Ndays(3, x, data))"
   ]
  },
  {
   "cell_type": "markdown",
   "metadata": {},
   "source": [
    "Now that we have pooled the text, we need to get the \"historical\" sentiment for each row. (i.e the sentiment over the past few days). For this we define a function as well : "
   ]
  },
  {
   "cell_type": "code",
   "execution_count": 15,
   "metadata": {},
   "outputs": [
    {
     "data": {
      "text/html": [
       "<div>\n",
       "<style>\n",
       "    .dataframe thead tr:only-child th {\n",
       "        text-align: right;\n",
       "    }\n",
       "\n",
       "    .dataframe thead th {\n",
       "        text-align: left;\n",
       "    }\n",
       "\n",
       "    .dataframe tbody tr th {\n",
       "        vertical-align: top;\n",
       "    }\n",
       "</style>\n",
       "<table border=\"1\" class=\"dataframe\">\n",
       "  <thead>\n",
       "    <tr style=\"text-align: right;\">\n",
       "      <th></th>\n",
       "      <th>date</th>\n",
       "      <th>news</th>\n",
       "      <th>polarity</th>\n",
       "      <th>subjectivity</th>\n",
       "      <th>adj_close</th>\n",
       "    </tr>\n",
       "  </thead>\n",
       "  <tbody>\n",
       "    <tr>\n",
       "      <th>0</th>\n",
       "      <td>2008-08-08</td>\n",
       "      <td>georgia down two russian warplan countri move ...</td>\n",
       "      <td>-1.171873</td>\n",
       "      <td>4.290272</td>\n",
       "      <td>11734.320312</td>\n",
       "    </tr>\n",
       "    <tr>\n",
       "      <th>1</th>\n",
       "      <td>2008-08-11</td>\n",
       "      <td>georgia down two russian warplan countri move ...</td>\n",
       "      <td>1.175505</td>\n",
       "      <td>4.604091</td>\n",
       "      <td>11782.349609</td>\n",
       "    </tr>\n",
       "    <tr>\n",
       "      <th>2</th>\n",
       "      <td>2008-08-12</td>\n",
       "      <td>wont america nato help us wont help us help ir...</td>\n",
       "      <td>-0.986652</td>\n",
       "      <td>9.097799</td>\n",
       "      <td>11642.469727</td>\n",
       "    </tr>\n",
       "    <tr>\n",
       "      <th>3</th>\n",
       "      <td>2008-08-13</td>\n",
       "      <td>wont america nato help us wont help us help ir...</td>\n",
       "      <td>0.014418</td>\n",
       "      <td>3.896825</td>\n",
       "      <td>11532.959961</td>\n",
       "    </tr>\n",
       "    <tr>\n",
       "      <th>4</th>\n",
       "      <td>2008-08-14</td>\n",
       "      <td>wont america nato help us wont help us help ir...</td>\n",
       "      <td>1.266396</td>\n",
       "      <td>7.060714</td>\n",
       "      <td>11615.929688</td>\n",
       "    </tr>\n",
       "  </tbody>\n",
       "</table>\n",
       "</div>"
      ],
      "text/plain": [
       "        date                                               news  polarity  \\\n",
       "0 2008-08-08  georgia down two russian warplan countri move ... -1.171873   \n",
       "1 2008-08-11  georgia down two russian warplan countri move ...  1.175505   \n",
       "2 2008-08-12  wont america nato help us wont help us help ir... -0.986652   \n",
       "3 2008-08-13  wont america nato help us wont help us help ir...  0.014418   \n",
       "4 2008-08-14  wont america nato help us wont help us help ir...  1.266396   \n",
       "\n",
       "   subjectivity     adj_close  \n",
       "0      4.290272  11734.320312  \n",
       "1      4.604091  11782.349609  \n",
       "2      9.097799  11642.469727  \n",
       "3      3.896825  11532.959961  \n",
       "4      7.060714  11615.929688  "
      ]
     },
     "execution_count": 15,
     "metadata": {},
     "output_type": "execute_result"
    }
   ],
   "source": [
    "data.head()"
   ]
  },
  {
   "cell_type": "code",
   "execution_count": 16,
   "metadata": {
    "collapsed": true
   },
   "outputs": [],
   "source": [
    "def get_passed_value(N, date, df, value='adj_close'):\n",
    "    # REturn a value in dataframe at date - N days. \n",
    "    # If none present, return is based on queried value : \n",
    "    \n",
    "    # adj_close : latest available value, or None if unavailable\n",
    "    # polarity  : 0\n",
    "    # subjectivity : 0\n",
    "    \n",
    "    # N - number of days back to get the polarity of that day\n",
    "    # date - the current date (or date in row)\n",
    "    # df - the whole dataframe\n",
    "    \n",
    "    # ensure we are using a copy of the dataframe\n",
    "    df = df.copy()\n",
    "    \n",
    "    v = df[value][df.date == (date - timedelta(N))].values\n",
    "    \n",
    "    # Return desired date (if it exists)\n",
    "    if len(v) == 1:\n",
    "        return v[0]\n",
    "    \n",
    "    # If it doesn't exist : \n",
    "    else:\n",
    "        \n",
    "        # If we are looking for adj_close, return latest available value, or None if there are none before\n",
    "        if value == 'adj_close':\n",
    "            v = np.sort(df.adj_close[df.date < date].values)\n",
    "            \n",
    "            if len(v) == 0:\n",
    "                return None\n",
    "            \n",
    "            else:\n",
    "                return v[-1]\n",
    "        \n",
    "        # If we are looking for polarity or subjectivity, return 0\n",
    "        else:\n",
    "            return 0\n",
    "    "
   ]
  },
  {
   "cell_type": "code",
   "execution_count": 17,
   "metadata": {},
   "outputs": [
    {
     "data": {
      "text/html": [
       "<div>\n",
       "<style>\n",
       "    .dataframe thead tr:only-child th {\n",
       "        text-align: right;\n",
       "    }\n",
       "\n",
       "    .dataframe thead th {\n",
       "        text-align: left;\n",
       "    }\n",
       "\n",
       "    .dataframe tbody tr th {\n",
       "        vertical-align: top;\n",
       "    }\n",
       "</style>\n",
       "<table border=\"1\" class=\"dataframe\">\n",
       "  <thead>\n",
       "    <tr style=\"text-align: right;\">\n",
       "      <th></th>\n",
       "      <th>date</th>\n",
       "      <th>news</th>\n",
       "      <th>polarity</th>\n",
       "      <th>subjectivity</th>\n",
       "      <th>adj_close</th>\n",
       "      <th>p_minus1</th>\n",
       "      <th>s_minus1</th>\n",
       "      <th>a_minus1</th>\n",
       "      <th>p_minus2</th>\n",
       "      <th>s_minus2</th>\n",
       "      <th>a_minus2</th>\n",
       "      <th>p_minus3</th>\n",
       "      <th>s_minus3</th>\n",
       "      <th>a_minus3</th>\n",
       "    </tr>\n",
       "  </thead>\n",
       "  <tbody>\n",
       "    <tr>\n",
       "      <th>0</th>\n",
       "      <td>2008-08-08</td>\n",
       "      <td>georgia down two russian warplan countri move ...</td>\n",
       "      <td>-1.171873</td>\n",
       "      <td>4.290272</td>\n",
       "      <td>11734.320312</td>\n",
       "      <td>0.000000</td>\n",
       "      <td>0.000000</td>\n",
       "      <td>NaN</td>\n",
       "      <td>0.000000</td>\n",
       "      <td>0.000000</td>\n",
       "      <td>NaN</td>\n",
       "      <td>0.000000</td>\n",
       "      <td>0.000000</td>\n",
       "      <td>NaN</td>\n",
       "    </tr>\n",
       "    <tr>\n",
       "      <th>1</th>\n",
       "      <td>2008-08-11</td>\n",
       "      <td>georgia down two russian warplan countri move ...</td>\n",
       "      <td>1.175505</td>\n",
       "      <td>4.604091</td>\n",
       "      <td>11782.349609</td>\n",
       "      <td>0.000000</td>\n",
       "      <td>0.000000</td>\n",
       "      <td>11734.320312</td>\n",
       "      <td>0.000000</td>\n",
       "      <td>0.000000</td>\n",
       "      <td>11734.320312</td>\n",
       "      <td>-1.171873</td>\n",
       "      <td>4.290272</td>\n",
       "      <td>11734.320312</td>\n",
       "    </tr>\n",
       "    <tr>\n",
       "      <th>2</th>\n",
       "      <td>2008-08-12</td>\n",
       "      <td>wont america nato help us wont help us help ir...</td>\n",
       "      <td>-0.986652</td>\n",
       "      <td>9.097799</td>\n",
       "      <td>11642.469727</td>\n",
       "      <td>1.175505</td>\n",
       "      <td>4.604091</td>\n",
       "      <td>11782.349609</td>\n",
       "      <td>0.000000</td>\n",
       "      <td>0.000000</td>\n",
       "      <td>11782.349609</td>\n",
       "      <td>0.000000</td>\n",
       "      <td>0.000000</td>\n",
       "      <td>11782.349609</td>\n",
       "    </tr>\n",
       "    <tr>\n",
       "      <th>3</th>\n",
       "      <td>2008-08-13</td>\n",
       "      <td>wont america nato help us wont help us help ir...</td>\n",
       "      <td>0.014418</td>\n",
       "      <td>3.896825</td>\n",
       "      <td>11532.959961</td>\n",
       "      <td>-0.986652</td>\n",
       "      <td>9.097799</td>\n",
       "      <td>11642.469727</td>\n",
       "      <td>1.175505</td>\n",
       "      <td>4.604091</td>\n",
       "      <td>11782.349609</td>\n",
       "      <td>0.000000</td>\n",
       "      <td>0.000000</td>\n",
       "      <td>11782.349609</td>\n",
       "    </tr>\n",
       "    <tr>\n",
       "      <th>4</th>\n",
       "      <td>2008-08-14</td>\n",
       "      <td>wont america nato help us wont help us help ir...</td>\n",
       "      <td>1.266396</td>\n",
       "      <td>7.060714</td>\n",
       "      <td>11615.929688</td>\n",
       "      <td>0.014418</td>\n",
       "      <td>3.896825</td>\n",
       "      <td>11532.959961</td>\n",
       "      <td>-0.986652</td>\n",
       "      <td>9.097799</td>\n",
       "      <td>11642.469727</td>\n",
       "      <td>1.175505</td>\n",
       "      <td>4.604091</td>\n",
       "      <td>11782.349609</td>\n",
       "    </tr>\n",
       "  </tbody>\n",
       "</table>\n",
       "</div>"
      ],
      "text/plain": [
       "        date                                               news  polarity  \\\n",
       "0 2008-08-08  georgia down two russian warplan countri move ... -1.171873   \n",
       "1 2008-08-11  georgia down two russian warplan countri move ...  1.175505   \n",
       "2 2008-08-12  wont america nato help us wont help us help ir... -0.986652   \n",
       "3 2008-08-13  wont america nato help us wont help us help ir...  0.014418   \n",
       "4 2008-08-14  wont america nato help us wont help us help ir...  1.266396   \n",
       "\n",
       "   subjectivity     adj_close  p_minus1  s_minus1      a_minus1  p_minus2  \\\n",
       "0      4.290272  11734.320312  0.000000  0.000000           NaN  0.000000   \n",
       "1      4.604091  11782.349609  0.000000  0.000000  11734.320312  0.000000   \n",
       "2      9.097799  11642.469727  1.175505  4.604091  11782.349609  0.000000   \n",
       "3      3.896825  11532.959961 -0.986652  9.097799  11642.469727  1.175505   \n",
       "4      7.060714  11615.929688  0.014418  3.896825  11532.959961 -0.986652   \n",
       "\n",
       "   s_minus2      a_minus2  p_minus3  s_minus3      a_minus3  \n",
       "0  0.000000           NaN  0.000000  0.000000           NaN  \n",
       "1  0.000000  11734.320312 -1.171873  4.290272  11734.320312  \n",
       "2  0.000000  11782.349609  0.000000  0.000000  11782.349609  \n",
       "3  4.604091  11782.349609  0.000000  0.000000  11782.349609  \n",
       "4  9.097799  11642.469727  1.175505  4.604091  11782.349609  "
      ]
     },
     "execution_count": 17,
     "metadata": {},
     "output_type": "execute_result"
    }
   ],
   "source": [
    "for i in range(3):\n",
    "    N = i + 1\n",
    "    p_label = 'p_minus' + str(N)\n",
    "    s_label = 's_minus' + str(N)\n",
    "    a_label = 'a_minus' + str(N)\n",
    "    \n",
    "    data[p_label] = data.date.apply(lambda x: get_passed_value(N, x, data, value='polarity'))\n",
    "    data[s_label] = data.date.apply(lambda x: get_passed_value(N, x, data, value='subjectivity'))\n",
    "    data[a_label] = data.date.apply(lambda x: get_passed_value(N, x, data, value='adj_close'))\n",
    "\n",
    "data.head()"
   ]
  },
  {
   "cell_type": "markdown",
   "metadata": {},
   "source": [
    "Now we have everything set up for time series analysis, but before making models, we need to vectorize the text.  But before that!  Let's save this dataframe so that we can access it more easily later on. "
   ]
  },
  {
   "cell_type": "code",
   "execution_count": null,
   "metadata": {
    "collapsed": true
   },
   "outputs": [],
   "source": [
    "# Save Processed data so far. \n",
    "data.to_csv('data_pre_vectorization.csv')"
   ]
  },
  {
   "cell_type": "markdown",
   "metadata": {},
   "source": [
    "## Train Test Split\n",
    "\n",
    "Because we are going to be vectorizing, we  have to split our data into a training and testing set.  However, we can not randomly split the data, since the idea is to see if past data can predict the future ones.  We are going to have to split in a chronological basis.  For this, **I choose to use the last 30 days of our data as the test set**, and everything else as the training.   But for the sake of generality, let's define a function to get an arbitrary number of dates:"
   ]
  },
  {
   "cell_type": "code",
   "execution_count": 18,
   "metadata": {
    "collapsed": true
   },
   "outputs": [],
   "source": [
    "def split_by_date(df, training_days = 100):\n",
    "    # Do a train test split on the data and, keep the date \n",
    "    # so that we can reorder for future use. \n",
    "    \n",
    "    date = df.date.max() - timedelta(days=training_days)\n",
    "    \n",
    "    training = df[df.date <= date]\n",
    "    testing  = df[df.date > date]\n",
    "    \n",
    "    return [training, testing]\n"
   ]
  },
  {
   "cell_type": "code",
   "execution_count": 48,
   "metadata": {
    "collapsed": true
   },
   "outputs": [],
   "source": [
    "# Train Test split the data (chronologically)\n",
    "train, test = split_by_date(data, training_days=365)"
   ]
  },
  {
   "cell_type": "code",
   "execution_count": 49,
   "metadata": {},
   "outputs": [
    {
     "data": {
      "text/plain": [
       "(252, 14)"
      ]
     },
     "execution_count": 49,
     "metadata": {},
     "output_type": "execute_result"
    }
   ],
   "source": [
    "test.shape"
   ]
  },
  {
   "cell_type": "markdown",
   "metadata": {},
   "source": [
    "## Filling In Null Values\n",
    "Because our previous function returned null values when there were no available adj_close values, we need to define an Imputer to fill those in.  We take a look at the distribution of those values to get an idea, of which strategy we should be using : "
   ]
  },
  {
   "cell_type": "code",
   "execution_count": 50,
   "metadata": {},
   "outputs": [
    {
     "data": {
      "text/plain": [
       "array([[<matplotlib.axes._subplots.AxesSubplot object at 0x7f5050674ef0>]],\n",
       "      dtype=object)"
      ]
     },
     "execution_count": 50,
     "metadata": {},
     "output_type": "execute_result"
    },
    {
     "data": {
      "image/png": "[encoded data removed]",
      "text/plain": [
       "<Figure size 432x288 with 1 Axes>"
      ]
     },
     "metadata": {},
     "output_type": "display_data"
    }
   ],
   "source": [
    "train.hist('adj_close')"
   ]
  },
  {
   "cell_type": "markdown",
   "metadata": {},
   "source": [
    "There seem to be two different types of distributions, one centered around 18000, and one around 12000.  This may have a time-dependent factor, so we should take a lookt at how that value evolves over time. "
   ]
  },
  {
   "cell_type": "code",
   "execution_count": 51,
   "metadata": {},
   "outputs": [
    {
     "data": {
      "text/plain": [
       "(252, 14)"
      ]
     },
     "execution_count": 51,
     "metadata": {},
     "output_type": "execute_result"
    }
   ],
   "source": [
    "test.shape"
   ]
  },
  {
   "cell_type": "code",
   "execution_count": 52,
   "metadata": {},
   "outputs": [
    {
     "data": {
      "text/plain": [
       "<matplotlib.axes._subplots.AxesSubplot at 0x7f5050339390>"
      ]
     },
     "execution_count": 52,
     "metadata": {},
     "output_type": "execute_result"
    },
    {
     "data": {
      "image/png": "[encoded data removed]",
      "text/plain": [
       "<Figure size 432x288 with 1 Axes>"
      ]
     },
     "metadata": {},
     "output_type": "display_data"
    }
   ],
   "source": [
    "train.plot(x='date', y='adj_close')"
   ]
  },
  {
   "cell_type": "markdown",
   "metadata": {},
   "source": [
    "There doesn't seem to be two distinctive groups from the time-plot, but we can see that the `adj_close` price is rising with time.  From this we can **make a decision** : Imputed value is based on whether or not the date is prior to 2014.  To check this : "
   ]
  },
  {
   "cell_type": "markdown",
   "metadata": {},
   "source": [
    "There is a little overlap, but that should do the trick.  We now need to calculate the mean for values in each of those time periods. "
   ]
  },
  {
   "cell_type": "code",
   "execution_count": 53,
   "metadata": {
    "collapsed": true
   },
   "outputs": [],
   "source": [
    "mean_pre  = data.adj_close[data.date < pd.to_datetime('2013-01-01')].mean()\n",
    "mean_post = data.adj_close[data.date >= pd.to_datetime('2013-01-01')].mean()"
   ]
  },
  {
   "cell_type": "markdown",
   "metadata": {},
   "source": [
    "In the end, the way we got `a_minusN` only returns null values for the first row in the data. So we'll just impute them manually. "
   ]
  },
  {
   "cell_type": "code",
   "execution_count": 54,
   "metadata": {},
   "outputs": [
    {
     "name": "stderr",
     "output_type": "stream",
     "text": [
      "/home/thomas/anaconda3/lib/python3.6/site-packages/pandas/core/frame.py:2852: SettingWithCopyWarning: \n",
      "A value is trying to be set on a copy of a slice from a DataFrame\n",
      "\n",
      "See the caveats in the documentation: http://pandas.pydata.org/pandas-docs/stable/indexing.html#indexing-view-versus-copy\n",
      "  downcast=downcast, **kwargs)\n"
     ]
    }
   ],
   "source": [
    "train.fillna(mean_pre, inplace=True);"
   ]
  },
  {
   "cell_type": "markdown",
   "metadata": {},
   "source": [
    "## Text Vectorization : Bag of Words\n",
    "\n",
    "For this I am going to keep it simple, and use a word count, or bag of words. "
   ]
  },
  {
   "cell_type": "code",
   "execution_count": 55,
   "metadata": {},
   "outputs": [
    {
     "data": {
      "text/html": [
       "<div>\n",
       "<style>\n",
       "    .dataframe thead tr:only-child th {\n",
       "        text-align: right;\n",
       "    }\n",
       "\n",
       "    .dataframe thead th {\n",
       "        text-align: left;\n",
       "    }\n",
       "\n",
       "    .dataframe tbody tr th {\n",
       "        vertical-align: top;\n",
       "    }\n",
       "</style>\n",
       "<table border=\"1\" class=\"dataframe\">\n",
       "  <thead>\n",
       "    <tr style=\"text-align: right;\">\n",
       "      <th></th>\n",
       "      <th>abandon</th>\n",
       "      <th>abl</th>\n",
       "      <th>abort</th>\n",
       "      <th>abus</th>\n",
       "      <th>accept</th>\n",
       "      <th>access</th>\n",
       "      <th>accid</th>\n",
       "      <th>accord</th>\n",
       "      <th>account</th>\n",
       "      <th>accus</th>\n",
       "      <th>...</th>\n",
       "      <th>yet</th>\n",
       "      <th>york</th>\n",
       "      <th>young</th>\n",
       "      <th>your</th>\n",
       "      <th>youth</th>\n",
       "      <th>youtub</th>\n",
       "      <th>yr</th>\n",
       "      <th>zealand</th>\n",
       "      <th>zimbabw</th>\n",
       "      <th>zone</th>\n",
       "    </tr>\n",
       "  </thead>\n",
       "  <tbody>\n",
       "    <tr>\n",
       "      <th>0</th>\n",
       "      <td>0</td>\n",
       "      <td>0</td>\n",
       "      <td>0</td>\n",
       "      <td>0</td>\n",
       "      <td>0</td>\n",
       "      <td>0</td>\n",
       "      <td>0</td>\n",
       "      <td>0</td>\n",
       "      <td>0</td>\n",
       "      <td>0</td>\n",
       "      <td>...</td>\n",
       "      <td>1</td>\n",
       "      <td>0</td>\n",
       "      <td>0</td>\n",
       "      <td>0</td>\n",
       "      <td>0</td>\n",
       "      <td>1</td>\n",
       "      <td>0</td>\n",
       "      <td>0</td>\n",
       "      <td>0</td>\n",
       "      <td>0</td>\n",
       "    </tr>\n",
       "    <tr>\n",
       "      <th>1</th>\n",
       "      <td>1</td>\n",
       "      <td>0</td>\n",
       "      <td>0</td>\n",
       "      <td>0</td>\n",
       "      <td>0</td>\n",
       "      <td>0</td>\n",
       "      <td>0</td>\n",
       "      <td>0</td>\n",
       "      <td>0</td>\n",
       "      <td>0</td>\n",
       "      <td>...</td>\n",
       "      <td>1</td>\n",
       "      <td>0</td>\n",
       "      <td>0</td>\n",
       "      <td>0</td>\n",
       "      <td>0</td>\n",
       "      <td>1</td>\n",
       "      <td>0</td>\n",
       "      <td>1</td>\n",
       "      <td>0</td>\n",
       "      <td>0</td>\n",
       "    </tr>\n",
       "    <tr>\n",
       "      <th>2</th>\n",
       "      <td>1</td>\n",
       "      <td>0</td>\n",
       "      <td>0</td>\n",
       "      <td>0</td>\n",
       "      <td>0</td>\n",
       "      <td>0</td>\n",
       "      <td>0</td>\n",
       "      <td>0</td>\n",
       "      <td>0</td>\n",
       "      <td>1</td>\n",
       "      <td>...</td>\n",
       "      <td>0</td>\n",
       "      <td>0</td>\n",
       "      <td>0</td>\n",
       "      <td>0</td>\n",
       "      <td>0</td>\n",
       "      <td>0</td>\n",
       "      <td>0</td>\n",
       "      <td>1</td>\n",
       "      <td>0</td>\n",
       "      <td>0</td>\n",
       "    </tr>\n",
       "    <tr>\n",
       "      <th>3</th>\n",
       "      <td>1</td>\n",
       "      <td>0</td>\n",
       "      <td>0</td>\n",
       "      <td>0</td>\n",
       "      <td>0</td>\n",
       "      <td>0</td>\n",
       "      <td>0</td>\n",
       "      <td>0</td>\n",
       "      <td>0</td>\n",
       "      <td>2</td>\n",
       "      <td>...</td>\n",
       "      <td>0</td>\n",
       "      <td>0</td>\n",
       "      <td>0</td>\n",
       "      <td>0</td>\n",
       "      <td>0</td>\n",
       "      <td>0</td>\n",
       "      <td>0</td>\n",
       "      <td>1</td>\n",
       "      <td>0</td>\n",
       "      <td>0</td>\n",
       "    </tr>\n",
       "    <tr>\n",
       "      <th>4</th>\n",
       "      <td>1</td>\n",
       "      <td>0</td>\n",
       "      <td>0</td>\n",
       "      <td>0</td>\n",
       "      <td>0</td>\n",
       "      <td>0</td>\n",
       "      <td>0</td>\n",
       "      <td>0</td>\n",
       "      <td>0</td>\n",
       "      <td>3</td>\n",
       "      <td>...</td>\n",
       "      <td>0</td>\n",
       "      <td>0</td>\n",
       "      <td>0</td>\n",
       "      <td>0</td>\n",
       "      <td>0</td>\n",
       "      <td>0</td>\n",
       "      <td>0</td>\n",
       "      <td>1</td>\n",
       "      <td>0</td>\n",
       "      <td>0</td>\n",
       "    </tr>\n",
       "  </tbody>\n",
       "</table>\n",
       "<p>5 rows × 1502 columns</p>\n",
       "</div>"
      ],
      "text/plain": [
       "   abandon  abl  abort  abus  accept  access  accid  accord  account  accus  \\\n",
       "0        0    0      0     0       0       0      0       0        0      0   \n",
       "1        1    0      0     0       0       0      0       0        0      0   \n",
       "2        1    0      0     0       0       0      0       0        0      1   \n",
       "3        1    0      0     0       0       0      0       0        0      2   \n",
       "4        1    0      0     0       0       0      0       0        0      3   \n",
       "\n",
       "   ...   yet  york  young  your  youth  youtub  yr  zealand  zimbabw  zone  \n",
       "0  ...     1     0      0     0      0       1   0        0        0     0  \n",
       "1  ...     1     0      0     0      0       1   0        1        0     0  \n",
       "2  ...     0     0      0     0      0       0   0        1        0     0  \n",
       "3  ...     0     0      0     0      0       0   0        1        0     0  \n",
       "4  ...     0     0      0     0      0       0   0        1        0     0  \n",
       "\n",
       "[5 rows x 1502 columns]"
      ]
     },
     "execution_count": 55,
     "metadata": {},
     "output_type": "execute_result"
    }
   ],
   "source": [
    "# Define the countvectorizer :\n",
    "Vectorizer = CountVectorizer(min_df=0.1)\n",
    "Vectorizer.fit(train.news)\n",
    "\n",
    "_ = Vectorizer.transform(train.news).todense()\n",
    "vectorized_text_training = pd.DataFrame(_, columns = Vectorizer.get_feature_names()) \n",
    "\n",
    "vectorized_text_training.head()"
   ]
  },
  {
   "cell_type": "markdown",
   "metadata": {},
   "source": [
    "With the vectorized text, we can drop the news column, and replace wiht all the ones that were created. "
   ]
  },
  {
   "cell_type": "code",
   "execution_count": 56,
   "metadata": {},
   "outputs": [
    {
     "data": {
      "text/html": [
       "<div>\n",
       "<style>\n",
       "    .dataframe thead tr:only-child th {\n",
       "        text-align: right;\n",
       "    }\n",
       "\n",
       "    .dataframe thead th {\n",
       "        text-align: left;\n",
       "    }\n",
       "\n",
       "    .dataframe tbody tr th {\n",
       "        vertical-align: top;\n",
       "    }\n",
       "</style>\n",
       "<table border=\"1\" class=\"dataframe\">\n",
       "  <thead>\n",
       "    <tr style=\"text-align: right;\">\n",
       "      <th></th>\n",
       "      <th>abandon</th>\n",
       "      <th>abl</th>\n",
       "      <th>abort</th>\n",
       "      <th>abus</th>\n",
       "      <th>accept</th>\n",
       "      <th>access</th>\n",
       "      <th>accid</th>\n",
       "      <th>accord</th>\n",
       "      <th>account</th>\n",
       "      <th>accus</th>\n",
       "      <th>...</th>\n",
       "      <th>adj_close</th>\n",
       "      <th>p_minus1</th>\n",
       "      <th>s_minus1</th>\n",
       "      <th>a_minus1</th>\n",
       "      <th>p_minus2</th>\n",
       "      <th>s_minus2</th>\n",
       "      <th>a_minus2</th>\n",
       "      <th>p_minus3</th>\n",
       "      <th>s_minus3</th>\n",
       "      <th>a_minus3</th>\n",
       "    </tr>\n",
       "  </thead>\n",
       "  <tbody>\n",
       "    <tr>\n",
       "      <th>0</th>\n",
       "      <td>0</td>\n",
       "      <td>0</td>\n",
       "      <td>0</td>\n",
       "      <td>0</td>\n",
       "      <td>0</td>\n",
       "      <td>0</td>\n",
       "      <td>0</td>\n",
       "      <td>0</td>\n",
       "      <td>0</td>\n",
       "      <td>0</td>\n",
       "      <td>...</td>\n",
       "      <td>11734.320312</td>\n",
       "      <td>0.000000</td>\n",
       "      <td>0.000000</td>\n",
       "      <td>10988.595578</td>\n",
       "      <td>0.000000</td>\n",
       "      <td>0.000000</td>\n",
       "      <td>10988.595578</td>\n",
       "      <td>0.000000</td>\n",
       "      <td>0.000000</td>\n",
       "      <td>10988.595578</td>\n",
       "    </tr>\n",
       "    <tr>\n",
       "      <th>1</th>\n",
       "      <td>1</td>\n",
       "      <td>0</td>\n",
       "      <td>0</td>\n",
       "      <td>0</td>\n",
       "      <td>0</td>\n",
       "      <td>0</td>\n",
       "      <td>0</td>\n",
       "      <td>0</td>\n",
       "      <td>0</td>\n",
       "      <td>0</td>\n",
       "      <td>...</td>\n",
       "      <td>11782.349609</td>\n",
       "      <td>0.000000</td>\n",
       "      <td>0.000000</td>\n",
       "      <td>11734.320312</td>\n",
       "      <td>0.000000</td>\n",
       "      <td>0.000000</td>\n",
       "      <td>11734.320312</td>\n",
       "      <td>-1.171873</td>\n",
       "      <td>4.290272</td>\n",
       "      <td>11734.320312</td>\n",
       "    </tr>\n",
       "    <tr>\n",
       "      <th>2</th>\n",
       "      <td>1</td>\n",
       "      <td>0</td>\n",
       "      <td>0</td>\n",
       "      <td>0</td>\n",
       "      <td>0</td>\n",
       "      <td>0</td>\n",
       "      <td>0</td>\n",
       "      <td>0</td>\n",
       "      <td>0</td>\n",
       "      <td>1</td>\n",
       "      <td>...</td>\n",
       "      <td>11642.469727</td>\n",
       "      <td>1.175505</td>\n",
       "      <td>4.604091</td>\n",
       "      <td>11782.349609</td>\n",
       "      <td>0.000000</td>\n",
       "      <td>0.000000</td>\n",
       "      <td>11782.349609</td>\n",
       "      <td>0.000000</td>\n",
       "      <td>0.000000</td>\n",
       "      <td>11782.349609</td>\n",
       "    </tr>\n",
       "    <tr>\n",
       "      <th>3</th>\n",
       "      <td>1</td>\n",
       "      <td>0</td>\n",
       "      <td>0</td>\n",
       "      <td>0</td>\n",
       "      <td>0</td>\n",
       "      <td>0</td>\n",
       "      <td>0</td>\n",
       "      <td>0</td>\n",
       "      <td>0</td>\n",
       "      <td>2</td>\n",
       "      <td>...</td>\n",
       "      <td>11532.959961</td>\n",
       "      <td>-0.986652</td>\n",
       "      <td>9.097799</td>\n",
       "      <td>11642.469727</td>\n",
       "      <td>1.175505</td>\n",
       "      <td>4.604091</td>\n",
       "      <td>11782.349609</td>\n",
       "      <td>0.000000</td>\n",
       "      <td>0.000000</td>\n",
       "      <td>11782.349609</td>\n",
       "    </tr>\n",
       "    <tr>\n",
       "      <th>4</th>\n",
       "      <td>1</td>\n",
       "      <td>0</td>\n",
       "      <td>0</td>\n",
       "      <td>0</td>\n",
       "      <td>0</td>\n",
       "      <td>0</td>\n",
       "      <td>0</td>\n",
       "      <td>0</td>\n",
       "      <td>0</td>\n",
       "      <td>3</td>\n",
       "      <td>...</td>\n",
       "      <td>11615.929688</td>\n",
       "      <td>0.014418</td>\n",
       "      <td>3.896825</td>\n",
       "      <td>11532.959961</td>\n",
       "      <td>-0.986652</td>\n",
       "      <td>9.097799</td>\n",
       "      <td>11642.469727</td>\n",
       "      <td>1.175505</td>\n",
       "      <td>4.604091</td>\n",
       "      <td>11782.349609</td>\n",
       "    </tr>\n",
       "  </tbody>\n",
       "</table>\n",
       "<p>5 rows × 1514 columns</p>\n",
       "</div>"
      ],
      "text/plain": [
       "   abandon  abl  abort  abus  accept  access  accid  accord  account  accus  \\\n",
       "0        0    0      0     0       0       0      0       0        0      0   \n",
       "1        1    0      0     0       0       0      0       0        0      0   \n",
       "2        1    0      0     0       0       0      0       0        0      1   \n",
       "3        1    0      0     0       0       0      0       0        0      2   \n",
       "4        1    0      0     0       0       0      0       0        0      3   \n",
       "\n",
       "       ...          adj_close  p_minus1  s_minus1      a_minus1  p_minus2  \\\n",
       "0      ...       11734.320312  0.000000  0.000000  10988.595578  0.000000   \n",
       "1      ...       11782.349609  0.000000  0.000000  11734.320312  0.000000   \n",
       "2      ...       11642.469727  1.175505  4.604091  11782.349609  0.000000   \n",
       "3      ...       11532.959961 -0.986652  9.097799  11642.469727  1.175505   \n",
       "4      ...       11615.929688  0.014418  3.896825  11532.959961 -0.986652   \n",
       "\n",
       "   s_minus2      a_minus2  p_minus3  s_minus3      a_minus3  \n",
       "0  0.000000  10988.595578  0.000000  0.000000  10988.595578  \n",
       "1  0.000000  11734.320312 -1.171873  4.290272  11734.320312  \n",
       "2  0.000000  11782.349609  0.000000  0.000000  11782.349609  \n",
       "3  4.604091  11782.349609  0.000000  0.000000  11782.349609  \n",
       "4  9.097799  11642.469727  1.175505  4.604091  11782.349609  \n",
       "\n",
       "[5 rows x 1514 columns]"
      ]
     },
     "execution_count": 56,
     "metadata": {},
     "output_type": "execute_result"
    }
   ],
   "source": [
    "train_vectorized = pd.concat([vectorized_text_training, train], axis=1)\n",
    "train_vectorized.drop('news', inplace=True, axis=1)\n",
    "train_vectorized.head()"
   ]
  },
  {
   "cell_type": "markdown",
   "metadata": {},
   "source": [
    "We do this for our test set as well :"
   ]
  },
  {
   "cell_type": "code",
   "execution_count": 57,
   "metadata": {},
   "outputs": [
    {
     "data": {
      "text/html": [
       "<div>\n",
       "<style>\n",
       "    .dataframe thead tr:only-child th {\n",
       "        text-align: right;\n",
       "    }\n",
       "\n",
       "    .dataframe thead th {\n",
       "        text-align: left;\n",
       "    }\n",
       "\n",
       "    .dataframe tbody tr th {\n",
       "        vertical-align: top;\n",
       "    }\n",
       "</style>\n",
       "<table border=\"1\" class=\"dataframe\">\n",
       "  <thead>\n",
       "    <tr style=\"text-align: right;\">\n",
       "      <th></th>\n",
       "      <th>abandon</th>\n",
       "      <th>abl</th>\n",
       "      <th>abort</th>\n",
       "      <th>abus</th>\n",
       "      <th>accept</th>\n",
       "      <th>access</th>\n",
       "      <th>accid</th>\n",
       "      <th>accord</th>\n",
       "      <th>account</th>\n",
       "      <th>accus</th>\n",
       "      <th>...</th>\n",
       "      <th>yet</th>\n",
       "      <th>york</th>\n",
       "      <th>young</th>\n",
       "      <th>your</th>\n",
       "      <th>youth</th>\n",
       "      <th>youtub</th>\n",
       "      <th>yr</th>\n",
       "      <th>zealand</th>\n",
       "      <th>zimbabw</th>\n",
       "      <th>zone</th>\n",
       "    </tr>\n",
       "  </thead>\n",
       "  <tbody>\n",
       "    <tr>\n",
       "      <th>0</th>\n",
       "      <td>0</td>\n",
       "      <td>0</td>\n",
       "      <td>0</td>\n",
       "      <td>0</td>\n",
       "      <td>1</td>\n",
       "      <td>0</td>\n",
       "      <td>0</td>\n",
       "      <td>0</td>\n",
       "      <td>0</td>\n",
       "      <td>0</td>\n",
       "      <td>...</td>\n",
       "      <td>0</td>\n",
       "      <td>0</td>\n",
       "      <td>0</td>\n",
       "      <td>0</td>\n",
       "      <td>0</td>\n",
       "      <td>0</td>\n",
       "      <td>0</td>\n",
       "      <td>0</td>\n",
       "      <td>0</td>\n",
       "      <td>0</td>\n",
       "    </tr>\n",
       "    <tr>\n",
       "      <th>1</th>\n",
       "      <td>0</td>\n",
       "      <td>0</td>\n",
       "      <td>0</td>\n",
       "      <td>1</td>\n",
       "      <td>1</td>\n",
       "      <td>0</td>\n",
       "      <td>0</td>\n",
       "      <td>0</td>\n",
       "      <td>0</td>\n",
       "      <td>0</td>\n",
       "      <td>...</td>\n",
       "      <td>0</td>\n",
       "      <td>0</td>\n",
       "      <td>0</td>\n",
       "      <td>0</td>\n",
       "      <td>0</td>\n",
       "      <td>0</td>\n",
       "      <td>0</td>\n",
       "      <td>0</td>\n",
       "      <td>0</td>\n",
       "      <td>0</td>\n",
       "    </tr>\n",
       "    <tr>\n",
       "      <th>2</th>\n",
       "      <td>1</td>\n",
       "      <td>0</td>\n",
       "      <td>1</td>\n",
       "      <td>1</td>\n",
       "      <td>1</td>\n",
       "      <td>0</td>\n",
       "      <td>0</td>\n",
       "      <td>0</td>\n",
       "      <td>0</td>\n",
       "      <td>0</td>\n",
       "      <td>...</td>\n",
       "      <td>0</td>\n",
       "      <td>0</td>\n",
       "      <td>2</td>\n",
       "      <td>0</td>\n",
       "      <td>0</td>\n",
       "      <td>0</td>\n",
       "      <td>0</td>\n",
       "      <td>0</td>\n",
       "      <td>0</td>\n",
       "      <td>1</td>\n",
       "    </tr>\n",
       "    <tr>\n",
       "      <th>3</th>\n",
       "      <td>1</td>\n",
       "      <td>0</td>\n",
       "      <td>1</td>\n",
       "      <td>2</td>\n",
       "      <td>1</td>\n",
       "      <td>0</td>\n",
       "      <td>0</td>\n",
       "      <td>0</td>\n",
       "      <td>0</td>\n",
       "      <td>0</td>\n",
       "      <td>...</td>\n",
       "      <td>0</td>\n",
       "      <td>0</td>\n",
       "      <td>2</td>\n",
       "      <td>0</td>\n",
       "      <td>0</td>\n",
       "      <td>0</td>\n",
       "      <td>0</td>\n",
       "      <td>0</td>\n",
       "      <td>0</td>\n",
       "      <td>1</td>\n",
       "    </tr>\n",
       "    <tr>\n",
       "      <th>4</th>\n",
       "      <td>1</td>\n",
       "      <td>0</td>\n",
       "      <td>1</td>\n",
       "      <td>2</td>\n",
       "      <td>1</td>\n",
       "      <td>0</td>\n",
       "      <td>0</td>\n",
       "      <td>1</td>\n",
       "      <td>0</td>\n",
       "      <td>1</td>\n",
       "      <td>...</td>\n",
       "      <td>0</td>\n",
       "      <td>0</td>\n",
       "      <td>2</td>\n",
       "      <td>0</td>\n",
       "      <td>0</td>\n",
       "      <td>0</td>\n",
       "      <td>0</td>\n",
       "      <td>0</td>\n",
       "      <td>0</td>\n",
       "      <td>1</td>\n",
       "    </tr>\n",
       "  </tbody>\n",
       "</table>\n",
       "<p>5 rows × 1502 columns</p>\n",
       "</div>"
      ],
      "text/plain": [
       "   abandon  abl  abort  abus  accept  access  accid  accord  account  accus  \\\n",
       "0        0    0      0     0       1       0      0       0        0      0   \n",
       "1        0    0      0     1       1       0      0       0        0      0   \n",
       "2        1    0      1     1       1       0      0       0        0      0   \n",
       "3        1    0      1     2       1       0      0       0        0      0   \n",
       "4        1    0      1     2       1       0      0       1        0      1   \n",
       "\n",
       "   ...   yet  york  young  your  youth  youtub  yr  zealand  zimbabw  zone  \n",
       "0  ...     0     0      0     0      0       0   0        0        0     0  \n",
       "1  ...     0     0      0     0      0       0   0        0        0     0  \n",
       "2  ...     0     0      2     0      0       0   0        0        0     1  \n",
       "3  ...     0     0      2     0      0       0   0        0        0     1  \n",
       "4  ...     0     0      2     0      0       0   0        0        0     1  \n",
       "\n",
       "[5 rows x 1502 columns]"
      ]
     },
     "execution_count": 57,
     "metadata": {},
     "output_type": "execute_result"
    }
   ],
   "source": [
    "_ = Vectorizer.transform(test.news).todense()\n",
    "vectorized_text_testing = pd.DataFrame(_, columns = Vectorizer.get_feature_names()) \n",
    "vectorized_text_testing.head()"
   ]
  },
  {
   "cell_type": "code",
   "execution_count": 58,
   "metadata": {},
   "outputs": [
    {
     "data": {
      "text/plain": [
       "(252, 1502)"
      ]
     },
     "execution_count": 58,
     "metadata": {},
     "output_type": "execute_result"
    }
   ],
   "source": [
    "vectorized_text_testing.shape"
   ]
  },
  {
   "cell_type": "code",
   "execution_count": 59,
   "metadata": {},
   "outputs": [
    {
     "data": {
      "text/plain": [
       "(252, 14)"
      ]
     },
     "execution_count": 59,
     "metadata": {},
     "output_type": "execute_result"
    }
   ],
   "source": [
    "test.shape"
   ]
  },
  {
   "cell_type": "code",
   "execution_count": 60,
   "metadata": {},
   "outputs": [
    {
     "data": {
      "text/html": [
       "<div>\n",
       "<style>\n",
       "    .dataframe thead tr:only-child th {\n",
       "        text-align: right;\n",
       "    }\n",
       "\n",
       "    .dataframe thead th {\n",
       "        text-align: left;\n",
       "    }\n",
       "\n",
       "    .dataframe tbody tr th {\n",
       "        vertical-align: top;\n",
       "    }\n",
       "</style>\n",
       "<table border=\"1\" class=\"dataframe\">\n",
       "  <thead>\n",
       "    <tr style=\"text-align: right;\">\n",
       "      <th></th>\n",
       "      <th>abandon</th>\n",
       "      <th>abl</th>\n",
       "      <th>abort</th>\n",
       "      <th>abus</th>\n",
       "      <th>accept</th>\n",
       "      <th>access</th>\n",
       "      <th>accid</th>\n",
       "      <th>accord</th>\n",
       "      <th>account</th>\n",
       "      <th>accus</th>\n",
       "      <th>...</th>\n",
       "      <th>adj_close</th>\n",
       "      <th>p_minus1</th>\n",
       "      <th>s_minus1</th>\n",
       "      <th>a_minus1</th>\n",
       "      <th>p_minus2</th>\n",
       "      <th>s_minus2</th>\n",
       "      <th>a_minus2</th>\n",
       "      <th>p_minus3</th>\n",
       "      <th>s_minus3</th>\n",
       "      <th>a_minus3</th>\n",
       "    </tr>\n",
       "  </thead>\n",
       "  <tbody>\n",
       "    <tr>\n",
       "      <th>0</th>\n",
       "      <td>0</td>\n",
       "      <td>0</td>\n",
       "      <td>0</td>\n",
       "      <td>0</td>\n",
       "      <td>1</td>\n",
       "      <td>0</td>\n",
       "      <td>0</td>\n",
       "      <td>0</td>\n",
       "      <td>0</td>\n",
       "      <td>0</td>\n",
       "      <td>...</td>\n",
       "      <td>17683.580078</td>\n",
       "      <td>0.000000</td>\n",
       "      <td>0.000000</td>\n",
       "      <td>18312.390625</td>\n",
       "      <td>0.000000</td>\n",
       "      <td>0.000000</td>\n",
       "      <td>18312.390625</td>\n",
       "      <td>0.000000</td>\n",
       "      <td>0.000000</td>\n",
       "      <td>18312.390625</td>\n",
       "    </tr>\n",
       "    <tr>\n",
       "      <th>1</th>\n",
       "      <td>0</td>\n",
       "      <td>0</td>\n",
       "      <td>0</td>\n",
       "      <td>1</td>\n",
       "      <td>1</td>\n",
       "      <td>0</td>\n",
       "      <td>0</td>\n",
       "      <td>0</td>\n",
       "      <td>0</td>\n",
       "      <td>0</td>\n",
       "      <td>...</td>\n",
       "      <td>17776.910156</td>\n",
       "      <td>-0.155952</td>\n",
       "      <td>5.645754</td>\n",
       "      <td>17683.580078</td>\n",
       "      <td>0.000000</td>\n",
       "      <td>0.000000</td>\n",
       "      <td>18312.390625</td>\n",
       "      <td>0.000000</td>\n",
       "      <td>0.000000</td>\n",
       "      <td>18312.390625</td>\n",
       "    </tr>\n",
       "    <tr>\n",
       "      <th>2</th>\n",
       "      <td>1</td>\n",
       "      <td>0</td>\n",
       "      <td>1</td>\n",
       "      <td>1</td>\n",
       "      <td>1</td>\n",
       "      <td>0</td>\n",
       "      <td>0</td>\n",
       "      <td>0</td>\n",
       "      <td>0</td>\n",
       "      <td>0</td>\n",
       "      <td>...</td>\n",
       "      <td>17515.419922</td>\n",
       "      <td>0.072652</td>\n",
       "      <td>7.393712</td>\n",
       "      <td>17776.910156</td>\n",
       "      <td>-0.155952</td>\n",
       "      <td>5.645754</td>\n",
       "      <td>17683.580078</td>\n",
       "      <td>0.000000</td>\n",
       "      <td>0.000000</td>\n",
       "      <td>18312.390625</td>\n",
       "    </tr>\n",
       "    <tr>\n",
       "      <th>3</th>\n",
       "      <td>1</td>\n",
       "      <td>0</td>\n",
       "      <td>1</td>\n",
       "      <td>2</td>\n",
       "      <td>1</td>\n",
       "      <td>0</td>\n",
       "      <td>0</td>\n",
       "      <td>0</td>\n",
       "      <td>0</td>\n",
       "      <td>0</td>\n",
       "      <td>...</td>\n",
       "      <td>17548.619141</td>\n",
       "      <td>0.616492</td>\n",
       "      <td>7.478926</td>\n",
       "      <td>17515.419922</td>\n",
       "      <td>0.072652</td>\n",
       "      <td>7.393712</td>\n",
       "      <td>17776.910156</td>\n",
       "      <td>-0.155952</td>\n",
       "      <td>5.645754</td>\n",
       "      <td>17683.580078</td>\n",
       "    </tr>\n",
       "    <tr>\n",
       "      <th>4</th>\n",
       "      <td>1</td>\n",
       "      <td>0</td>\n",
       "      <td>1</td>\n",
       "      <td>2</td>\n",
       "      <td>1</td>\n",
       "      <td>0</td>\n",
       "      <td>0</td>\n",
       "      <td>1</td>\n",
       "      <td>0</td>\n",
       "      <td>1</td>\n",
       "      <td>...</td>\n",
       "      <td>17760.410156</td>\n",
       "      <td>2.422247</td>\n",
       "      <td>6.492677</td>\n",
       "      <td>17548.619141</td>\n",
       "      <td>0.616492</td>\n",
       "      <td>7.478926</td>\n",
       "      <td>17515.419922</td>\n",
       "      <td>0.072652</td>\n",
       "      <td>7.393712</td>\n",
       "      <td>17776.910156</td>\n",
       "    </tr>\n",
       "  </tbody>\n",
       "</table>\n",
       "<p>5 rows × 1514 columns</p>\n",
       "</div>"
      ],
      "text/plain": [
       "   abandon  abl  abort  abus  accept  access  accid  accord  account  accus  \\\n",
       "0        0    0      0     0       1       0      0       0        0      0   \n",
       "1        0    0      0     1       1       0      0       0        0      0   \n",
       "2        1    0      1     1       1       0      0       0        0      0   \n",
       "3        1    0      1     2       1       0      0       0        0      0   \n",
       "4        1    0      1     2       1       0      0       1        0      1   \n",
       "\n",
       "       ...          adj_close  p_minus1  s_minus1      a_minus1  p_minus2  \\\n",
       "0      ...       17683.580078  0.000000  0.000000  18312.390625  0.000000   \n",
       "1      ...       17776.910156 -0.155952  5.645754  17683.580078  0.000000   \n",
       "2      ...       17515.419922  0.072652  7.393712  17776.910156 -0.155952   \n",
       "3      ...       17548.619141  0.616492  7.478926  17515.419922  0.072652   \n",
       "4      ...       17760.410156  2.422247  6.492677  17548.619141  0.616492   \n",
       "\n",
       "   s_minus2      a_minus2  p_minus3  s_minus3      a_minus3  \n",
       "0  0.000000  18312.390625  0.000000  0.000000  18312.390625  \n",
       "1  0.000000  18312.390625  0.000000  0.000000  18312.390625  \n",
       "2  5.645754  17683.580078  0.000000  0.000000  18312.390625  \n",
       "3  7.393712  17776.910156 -0.155952  5.645754  17683.580078  \n",
       "4  7.478926  17515.419922  0.072652  7.393712  17776.910156  \n",
       "\n",
       "[5 rows x 1514 columns]"
      ]
     },
     "execution_count": 60,
     "metadata": {},
     "output_type": "execute_result"
    }
   ],
   "source": [
    "# Concat the values to keep them in one place \n",
    "test.reset_index(drop=True, inplace=True)\n",
    "test_vectorized = pd.concat([vectorized_text_testing, test], axis=1)\n",
    "test_vectorized.drop('news', inplace=True, axis=1)\n",
    "test_vectorized.head()"
   ]
  },
  {
   "cell_type": "markdown",
   "metadata": {},
   "source": [
    "## Making the Model.  \n",
    "\n",
    "Now we are finally able to make a model and see if the news headlines help us predict adjusted closing prices.  Let's split our data into X, and y. I will want to keep the dates for future plotting, so I will carry them around with the y vector. "
   ]
  },
  {
   "cell_type": "code",
   "execution_count": 61,
   "metadata": {
    "collapsed": true
   },
   "outputs": [],
   "source": [
    "train_vectorized.columns = [c if c != 'date' else ('date' + str(i)) for i, c in enumerate(train_vectorized)]\n",
    "train_vectorized.columns = [c if c != 'date1501' else ('actual_date') for i, c in enumerate(train_vectorized)]\n",
    "train_vectorized.columns = [c if c != 'date340' else ('date') for i, c in enumerate(train_vectorized)]\n"
   ]
  },
  {
   "cell_type": "code",
   "execution_count": 32,
   "metadata": {
    "collapsed": true
   },
   "outputs": [],
   "source": [
    "y_train = train_vectorized[['adj_close', 'actual_date']]\n",
    "X_train = train_vectorized.drop(['adj_close', 'actual_date'], axis=1)"
   ]
  },
  {
   "cell_type": "code",
   "execution_count": 62,
   "metadata": {},
   "outputs": [
    {
     "data": {
      "text/html": [
       "<div>\n",
       "<style>\n",
       "    .dataframe thead tr:only-child th {\n",
       "        text-align: right;\n",
       "    }\n",
       "\n",
       "    .dataframe thead th {\n",
       "        text-align: left;\n",
       "    }\n",
       "\n",
       "    .dataframe tbody tr th {\n",
       "        vertical-align: top;\n",
       "    }\n",
       "</style>\n",
       "<table border=\"1\" class=\"dataframe\">\n",
       "  <thead>\n",
       "    <tr style=\"text-align: right;\">\n",
       "      <th></th>\n",
       "      <th>abandon</th>\n",
       "      <th>abl</th>\n",
       "      <th>abort</th>\n",
       "      <th>abus</th>\n",
       "      <th>accept</th>\n",
       "      <th>access</th>\n",
       "      <th>accid</th>\n",
       "      <th>accord</th>\n",
       "      <th>account</th>\n",
       "      <th>accus</th>\n",
       "      <th>...</th>\n",
       "      <th>subjectivity</th>\n",
       "      <th>p_minus1</th>\n",
       "      <th>s_minus1</th>\n",
       "      <th>a_minus1</th>\n",
       "      <th>p_minus2</th>\n",
       "      <th>s_minus2</th>\n",
       "      <th>a_minus2</th>\n",
       "      <th>p_minus3</th>\n",
       "      <th>s_minus3</th>\n",
       "      <th>a_minus3</th>\n",
       "    </tr>\n",
       "  </thead>\n",
       "  <tbody>\n",
       "    <tr>\n",
       "      <th>0</th>\n",
       "      <td>0</td>\n",
       "      <td>0</td>\n",
       "      <td>0</td>\n",
       "      <td>0</td>\n",
       "      <td>0</td>\n",
       "      <td>0</td>\n",
       "      <td>0</td>\n",
       "      <td>0</td>\n",
       "      <td>0</td>\n",
       "      <td>0</td>\n",
       "      <td>...</td>\n",
       "      <td>4.290272</td>\n",
       "      <td>0.000000</td>\n",
       "      <td>0.000000</td>\n",
       "      <td>10988.595578</td>\n",
       "      <td>0.000000</td>\n",
       "      <td>0.000000</td>\n",
       "      <td>10988.595578</td>\n",
       "      <td>0.000000</td>\n",
       "      <td>0.000000</td>\n",
       "      <td>10988.595578</td>\n",
       "    </tr>\n",
       "    <tr>\n",
       "      <th>1</th>\n",
       "      <td>1</td>\n",
       "      <td>0</td>\n",
       "      <td>0</td>\n",
       "      <td>0</td>\n",
       "      <td>0</td>\n",
       "      <td>0</td>\n",
       "      <td>0</td>\n",
       "      <td>0</td>\n",
       "      <td>0</td>\n",
       "      <td>0</td>\n",
       "      <td>...</td>\n",
       "      <td>4.604091</td>\n",
       "      <td>0.000000</td>\n",
       "      <td>0.000000</td>\n",
       "      <td>11734.320312</td>\n",
       "      <td>0.000000</td>\n",
       "      <td>0.000000</td>\n",
       "      <td>11734.320312</td>\n",
       "      <td>-1.171873</td>\n",
       "      <td>4.290272</td>\n",
       "      <td>11734.320312</td>\n",
       "    </tr>\n",
       "    <tr>\n",
       "      <th>2</th>\n",
       "      <td>1</td>\n",
       "      <td>0</td>\n",
       "      <td>0</td>\n",
       "      <td>0</td>\n",
       "      <td>0</td>\n",
       "      <td>0</td>\n",
       "      <td>0</td>\n",
       "      <td>0</td>\n",
       "      <td>0</td>\n",
       "      <td>1</td>\n",
       "      <td>...</td>\n",
       "      <td>9.097799</td>\n",
       "      <td>1.175505</td>\n",
       "      <td>4.604091</td>\n",
       "      <td>11782.349609</td>\n",
       "      <td>0.000000</td>\n",
       "      <td>0.000000</td>\n",
       "      <td>11782.349609</td>\n",
       "      <td>0.000000</td>\n",
       "      <td>0.000000</td>\n",
       "      <td>11782.349609</td>\n",
       "    </tr>\n",
       "    <tr>\n",
       "      <th>3</th>\n",
       "      <td>1</td>\n",
       "      <td>0</td>\n",
       "      <td>0</td>\n",
       "      <td>0</td>\n",
       "      <td>0</td>\n",
       "      <td>0</td>\n",
       "      <td>0</td>\n",
       "      <td>0</td>\n",
       "      <td>0</td>\n",
       "      <td>2</td>\n",
       "      <td>...</td>\n",
       "      <td>3.896825</td>\n",
       "      <td>-0.986652</td>\n",
       "      <td>9.097799</td>\n",
       "      <td>11642.469727</td>\n",
       "      <td>1.175505</td>\n",
       "      <td>4.604091</td>\n",
       "      <td>11782.349609</td>\n",
       "      <td>0.000000</td>\n",
       "      <td>0.000000</td>\n",
       "      <td>11782.349609</td>\n",
       "    </tr>\n",
       "    <tr>\n",
       "      <th>4</th>\n",
       "      <td>1</td>\n",
       "      <td>0</td>\n",
       "      <td>0</td>\n",
       "      <td>0</td>\n",
       "      <td>0</td>\n",
       "      <td>0</td>\n",
       "      <td>0</td>\n",
       "      <td>0</td>\n",
       "      <td>0</td>\n",
       "      <td>3</td>\n",
       "      <td>...</td>\n",
       "      <td>7.060714</td>\n",
       "      <td>0.014418</td>\n",
       "      <td>3.896825</td>\n",
       "      <td>11532.959961</td>\n",
       "      <td>-0.986652</td>\n",
       "      <td>9.097799</td>\n",
       "      <td>11642.469727</td>\n",
       "      <td>1.175505</td>\n",
       "      <td>4.604091</td>\n",
       "      <td>11782.349609</td>\n",
       "    </tr>\n",
       "  </tbody>\n",
       "</table>\n",
       "<p>5 rows × 1512 columns</p>\n",
       "</div>"
      ],
      "text/plain": [
       "   abandon  abl  abort  abus  accept  access  accid  accord  account  accus  \\\n",
       "0        0    0      0     0       0       0      0       0        0      0   \n",
       "1        1    0      0     0       0       0      0       0        0      0   \n",
       "2        1    0      0     0       0       0      0       0        0      1   \n",
       "3        1    0      0     0       0       0      0       0        0      2   \n",
       "4        1    0      0     0       0       0      0       0        0      3   \n",
       "\n",
       "       ...       subjectivity  p_minus1  s_minus1      a_minus1  p_minus2  \\\n",
       "0      ...           4.290272  0.000000  0.000000  10988.595578  0.000000   \n",
       "1      ...           4.604091  0.000000  0.000000  11734.320312  0.000000   \n",
       "2      ...           9.097799  1.175505  4.604091  11782.349609  0.000000   \n",
       "3      ...           3.896825 -0.986652  9.097799  11642.469727  1.175505   \n",
       "4      ...           7.060714  0.014418  3.896825  11532.959961 -0.986652   \n",
       "\n",
       "   s_minus2      a_minus2  p_minus3  s_minus3      a_minus3  \n",
       "0  0.000000  10988.595578  0.000000  0.000000  10988.595578  \n",
       "1  0.000000  11734.320312 -1.171873  4.290272  11734.320312  \n",
       "2  0.000000  11782.349609  0.000000  0.000000  11782.349609  \n",
       "3  4.604091  11782.349609  0.000000  0.000000  11782.349609  \n",
       "4  9.097799  11642.469727  1.175505  4.604091  11782.349609  \n",
       "\n",
       "[5 rows x 1512 columns]"
      ]
     },
     "execution_count": 62,
     "metadata": {},
     "output_type": "execute_result"
    }
   ],
   "source": [
    "X_train.head()"
   ]
  },
  {
   "cell_type": "code",
   "execution_count": 63,
   "metadata": {},
   "outputs": [
    {
     "data": {
      "text/html": [
       "<div>\n",
       "<style>\n",
       "    .dataframe thead tr:only-child th {\n",
       "        text-align: right;\n",
       "    }\n",
       "\n",
       "    .dataframe thead th {\n",
       "        text-align: left;\n",
       "    }\n",
       "\n",
       "    .dataframe tbody tr th {\n",
       "        vertical-align: top;\n",
       "    }\n",
       "</style>\n",
       "<table border=\"1\" class=\"dataframe\">\n",
       "  <thead>\n",
       "    <tr style=\"text-align: right;\">\n",
       "      <th></th>\n",
       "      <th>adj_close</th>\n",
       "      <th>actual_date</th>\n",
       "      <th>predictions</th>\n",
       "    </tr>\n",
       "  </thead>\n",
       "  <tbody>\n",
       "    <tr>\n",
       "      <th>0</th>\n",
       "      <td>11734.320312</td>\n",
       "      <td>2008-08-08</td>\n",
       "      <td>10575.130859</td>\n",
       "    </tr>\n",
       "    <tr>\n",
       "      <th>1</th>\n",
       "      <td>11782.349609</td>\n",
       "      <td>2008-08-11</td>\n",
       "      <td>11378.806641</td>\n",
       "    </tr>\n",
       "    <tr>\n",
       "      <th>2</th>\n",
       "      <td>11642.469727</td>\n",
       "      <td>2008-08-12</td>\n",
       "      <td>11381.015625</td>\n",
       "    </tr>\n",
       "    <tr>\n",
       "      <th>3</th>\n",
       "      <td>11532.959961</td>\n",
       "      <td>2008-08-13</td>\n",
       "      <td>11408.574219</td>\n",
       "    </tr>\n",
       "    <tr>\n",
       "      <th>4</th>\n",
       "      <td>11615.929688</td>\n",
       "      <td>2008-08-14</td>\n",
       "      <td>11444.098633</td>\n",
       "    </tr>\n",
       "  </tbody>\n",
       "</table>\n",
       "</div>"
      ],
      "text/plain": [
       "      adj_close actual_date   predictions\n",
       "0  11734.320312  2008-08-08  10575.130859\n",
       "1  11782.349609  2008-08-11  11378.806641\n",
       "2  11642.469727  2008-08-12  11381.015625\n",
       "3  11532.959961  2008-08-13  11408.574219\n",
       "4  11615.929688  2008-08-14  11444.098633"
      ]
     },
     "execution_count": 63,
     "metadata": {},
     "output_type": "execute_result"
    }
   ],
   "source": [
    "y_train.head()"
   ]
  },
  {
   "cell_type": "markdown",
   "metadata": {},
   "source": [
    "Do the same for the testing set : "
   ]
  },
  {
   "cell_type": "code",
   "execution_count": 64,
   "metadata": {
    "collapsed": true
   },
   "outputs": [],
   "source": [
    "test_vectorized.columns = [c if c != 'date' else ('date' + str(i)) for i, c in enumerate(test_vectorized)]\n",
    "test_vectorized.columns = [c if c != 'date1501' else ('actual_date') for i, c in enumerate(test_vectorized)]\n",
    "test_vectorized.columns = [c if c != 'date340' else ('date') for i, c in enumerate(test_vectorized)]"
   ]
  },
  {
   "cell_type": "code",
   "execution_count": 65,
   "metadata": {
    "collapsed": true
   },
   "outputs": [],
   "source": [
    "y_test = test_vectorized[['adj_close', 'actual_date']]\n",
    "X_test = test_vectorized.drop(['adj_close', 'actual_date'], axis=1)"
   ]
  },
  {
   "cell_type": "code",
   "execution_count": 66,
   "metadata": {},
   "outputs": [
    {
     "data": {
      "text/html": [
       "<div>\n",
       "<style>\n",
       "    .dataframe thead tr:only-child th {\n",
       "        text-align: right;\n",
       "    }\n",
       "\n",
       "    .dataframe thead th {\n",
       "        text-align: left;\n",
       "    }\n",
       "\n",
       "    .dataframe tbody tr th {\n",
       "        vertical-align: top;\n",
       "    }\n",
       "</style>\n",
       "<table border=\"1\" class=\"dataframe\">\n",
       "  <thead>\n",
       "    <tr style=\"text-align: right;\">\n",
       "      <th></th>\n",
       "      <th>adj_close</th>\n",
       "      <th>actual_date</th>\n",
       "    </tr>\n",
       "  </thead>\n",
       "  <tbody>\n",
       "    <tr>\n",
       "      <th>0</th>\n",
       "      <td>17683.580078</td>\n",
       "      <td>2015-07-06</td>\n",
       "    </tr>\n",
       "    <tr>\n",
       "      <th>1</th>\n",
       "      <td>17776.910156</td>\n",
       "      <td>2015-07-07</td>\n",
       "    </tr>\n",
       "    <tr>\n",
       "      <th>2</th>\n",
       "      <td>17515.419922</td>\n",
       "      <td>2015-07-08</td>\n",
       "    </tr>\n",
       "    <tr>\n",
       "      <th>3</th>\n",
       "      <td>17548.619141</td>\n",
       "      <td>2015-07-09</td>\n",
       "    </tr>\n",
       "    <tr>\n",
       "      <th>4</th>\n",
       "      <td>17760.410156</td>\n",
       "      <td>2015-07-10</td>\n",
       "    </tr>\n",
       "  </tbody>\n",
       "</table>\n",
       "</div>"
      ],
      "text/plain": [
       "      adj_close actual_date\n",
       "0  17683.580078  2015-07-06\n",
       "1  17776.910156  2015-07-07\n",
       "2  17515.419922  2015-07-08\n",
       "3  17548.619141  2015-07-09\n",
       "4  17760.410156  2015-07-10"
      ]
     },
     "execution_count": 66,
     "metadata": {},
     "output_type": "execute_result"
    }
   ],
   "source": [
    "y_test.head()"
   ]
  },
  {
   "cell_type": "code",
   "execution_count": 68,
   "metadata": {},
   "outputs": [
    {
     "name": "stdout",
     "output_type": "stream",
     "text": [
      "WARNING:tensorflow:float64 is not supported by many models, consider casting to float32.\n",
      "INFO:tensorflow:Using default config.\n",
      "WARNING:tensorflow:Using temporary folder as model directory: /tmp/tmpsjh3mia1\n",
      "INFO:tensorflow:Using config: {'_task_type': None, '_task_id': 0, '_cluster_spec': <tensorflow.python.training.server_lib.ClusterSpec object at 0x7f50503e5550>, '_master': '', '_num_ps_replicas': 0, '_num_worker_replicas': 0, '_environment': 'local', '_is_chief': True, '_evaluation_master': '', '_tf_config': gpu_options {\n",
      "  per_process_gpu_memory_fraction: 1.0\n",
      "}\n",
      ", '_tf_random_seed': None, '_save_summary_steps': 100, '_save_checkpoints_secs': 600, '_log_step_count_steps': 100, '_session_config': None, '_save_checkpoints_steps': None, '_keep_checkpoint_max': 5, '_keep_checkpoint_every_n_hours': 10000, '_model_dir': '/tmp/tmpsjh3mia1'}\n",
      "WARNING:tensorflow:float64 is not supported by many models, consider casting to float32.\n",
      "WARNING:tensorflow:float64 is not supported by many models, consider casting to float32.\n",
      "INFO:tensorflow:Create CheckpointSaverHook.\n",
      "INFO:tensorflow:Saving checkpoints for 1 into /tmp/tmpsjh3mia1/model.ckpt.\n",
      "INFO:tensorflow:loss = 204595040.0, step = 1\n",
      "INFO:tensorflow:global_step/sec: 23.0795\n",
      "INFO:tensorflow:loss = 337029.44, step = 101 (4.335 sec)\n",
      "INFO:tensorflow:global_step/sec: 23.1963\n",
      "INFO:tensorflow:loss = 150566.05, step = 201 (4.311 sec)\n",
      "INFO:tensorflow:global_step/sec: 23.3613\n",
      "INFO:tensorflow:loss = 254432.2, step = 301 (4.280 sec)\n",
      "INFO:tensorflow:global_step/sec: 23.2578\n",
      "INFO:tensorflow:loss = 114893.26, step = 401 (4.300 sec)\n",
      "INFO:tensorflow:global_step/sec: 23.0975\n",
      "INFO:tensorflow:loss = 264996.88, step = 501 (4.330 sec)\n",
      "INFO:tensorflow:global_step/sec: 22.8477\n",
      "INFO:tensorflow:loss = 316840.3, step = 601 (4.377 sec)\n",
      "INFO:tensorflow:global_step/sec: 23.0742\n",
      "INFO:tensorflow:loss = 208508.22, step = 701 (4.334 sec)\n",
      "INFO:tensorflow:global_step/sec: 23.07\n",
      "INFO:tensorflow:loss = 104713.1, step = 801 (4.335 sec)\n",
      "INFO:tensorflow:global_step/sec: 23.2638\n",
      "INFO:tensorflow:loss = 314201.38, step = 901 (4.298 sec)\n",
      "INFO:tensorflow:Saving checkpoints for 1000 into /tmp/tmpsjh3mia1/model.ckpt.\n",
      "INFO:tensorflow:Loss for final step: 50653.68.\n"
     ]
    },
    {
     "data": {
      "text/plain": [
       "SKCompat()"
      ]
     },
     "execution_count": 68,
     "metadata": {},
     "output_type": "execute_result"
    }
   ],
   "source": [
    "# Create the ANN (staying basic right now)\n",
    "activation = tf.nn.softplus #[tf.nn.tanh, tf.nn.relu, tf.nn.relu, tf.nn.relu, tf.nn.relu]\n",
    "\n",
    "feature_cols = tf.contrib.learn.infer_real_valued_columns_from_input(X_train)\n",
    "dnn_reg = tf.contrib.learn.DNNRegressor(hidden_units=[500, 300, 200, 100],\n",
    "                                        feature_columns=feature_cols,\n",
    "                                       activation_fn = activation)\n",
    "dnn_reg = tf.contrib.learn.SKCompat(dnn_reg)\n",
    "dnn_reg.fit(X_train, y_train['adj_close'], batch_size=100, steps=1000)\n"
   ]
  },
  {
   "cell_type": "code",
   "execution_count": 69,
   "metadata": {},
   "outputs": [
    {
     "name": "stdout",
     "output_type": "stream",
     "text": [
      "WARNING:tensorflow:float64 is not supported by many models, consider casting to float32.\n",
      "INFO:tensorflow:Restoring parameters from /tmp/tmpsjh3mia1/model.ckpt-1000\n",
      "WARNING:tensorflow:float64 is not supported by many models, consider casting to float32.\n",
      "INFO:tensorflow:Restoring parameters from /tmp/tmpsjh3mia1/model.ckpt-1000\n"
     ]
    },
    {
     "name": "stderr",
     "output_type": "stream",
     "text": [
      "/home/thomas/anaconda3/lib/python3.6/site-packages/ipykernel_launcher.py:2: SettingWithCopyWarning: \n",
      "A value is trying to be set on a copy of a slice from a DataFrame.\n",
      "Try using .loc[row_indexer,col_indexer] = value instead\n",
      "\n",
      "See the caveats in the documentation: http://pandas.pydata.org/pandas-docs/stable/indexing.html#indexing-view-versus-copy\n",
      "  \n"
     ]
    }
   ],
   "source": [
    "y_train['predictions'] = dnn_reg.predict(X_train)['scores']\n",
    "y_test['predictions'] = dnn_reg.predict(X_test)['scores']"
   ]
  },
  {
   "cell_type": "code",
   "execution_count": 70,
   "metadata": {
    "collapsed": true
   },
   "outputs": [],
   "source": [
    "def plot_results(train, test, title=None, dateline=False, ndays=30, predictions='predictions'):\n",
    "\n",
    "    \n",
    "    r2_train = round(r2_score(train.adj_close, train[predictions]), 3)\n",
    "    r2_test  = round(r2_score(test.adj_close, test[predictions]), 3)\n",
    "    \n",
    "    train_title = 'Training, R2 = {}'.format(str(r2_train))\n",
    "    test_title = 'Test, R2 = {}'.format(str(r2_test))\n",
    "    \n",
    "    top_xaxis = 'Actual Adjusted Closing Price ($)'\n",
    "    top_yaxis = 'Predicted Adjusted Closing Price ($)'\n",
    "    bottom_xaxis = 'Date'\n",
    "    bottom_axis  = 'Adjusted Closing Price ($)'\n",
    "    \n",
    "    title_size = 18\n",
    "    \n",
    "    f, [(ax1, ax2), (ax3, ax4)] = plt.subplots(nrows=2, ncols=2, figsize=(15,12))\n",
    "\n",
    "    if title!=None:\n",
    "        f.suptitle(title, size=title_size+1)\n",
    "\n",
    "    # Training Plot\n",
    "    ax1.scatter(x=train['adj_close'], y=train[predictions])\n",
    "    ax1.set_xlabel(top_xaxis)\n",
    "    ax1.set_ylabel(top_yaxis)\n",
    "    ax1.set_title(train_title, fontsize=title_size)\n",
    "    \n",
    "    train.plot(x='actual_date', y='adj_close', ax=ax3, label='actual')\n",
    "    train.plot(x='actual_date', y=predictions, ax=ax3, alpha=0.5, label='predicted')\n",
    "    ax3.legend()\n",
    "    \n",
    "    adj_min = 5000\n",
    "    adj_max = 22500\n",
    "    \n",
    "    ax1.set_xlim(adj_min, adj_max)\n",
    "    ax1.set_ylim(adj_min, adj_max)\n",
    "    ax2.set_xlim(adj_min, adj_max)\n",
    "    ax2.set_ylim(adj_min, adj_max)\n",
    "    \n",
    "    # Testing Plot\n",
    "    ax2.scatter(x=test['adj_close'], y=test[predictions])\n",
    "    ax2.set_xlabel(top_xaxis)\n",
    "    ax2.set_ylabel(top_yaxis)\n",
    "    ax2.set_title(test_title, fontsize=title_size)\n",
    "\n",
    "    test.plot(x='actual_date', y='adj_close', ax=ax4, label='actual')\n",
    "    test.plot(x='actual_date', y=predictions, ax=ax4, alpha=0.5, label='predicted')\n",
    "    \n",
    "    ax3.set_ylim(adj_min, adj_max)\n",
    "    ax4.set_ylim(adj_min, adj_max)\n",
    "    \n",
    "    line = np.arange(adj_min, adj_max, 1)\n",
    "    ax1.plot(line, line, 'k--', alpha=0.7)\n",
    "    ax2.plot(line, line, 'k--', alpha=0.7)\n",
    "    \n",
    "    if dateline == True:\n",
    "        date = test.actual_date.min() + timedelta(days=ndays)\n",
    "        line_x = [date, date]\n",
    "        line_y = [adj_min, adj_max]\n",
    "        ax4.plot(line_x, line_y, 'k--', alpha=0.7, label='date line')\n",
    "        \n",
    "    ax3.legend()\n",
    "    ax4.legend()\n",
    "        \n",
    "    pass"
   ]
  },
  {
   "cell_type": "code",
   "execution_count": 72,
   "metadata": {},
   "outputs": [
    {
     "data": {
      "image/png": "[encoded data removed]",
      "text/plain": [
       "<Figure size 1080x864 with 4 Axes>"
      ]
     },
     "metadata": {},
     "output_type": "display_data"
    }
   ],
   "source": [
    "plot_results(y_train, y_test, dateline=True, title='Predictions Using NLP and Sentiment Analysis')"
   ]
  },
  {
   "cell_type": "markdown",
   "metadata": {},
   "source": [
    "## Without NLP :\n",
    "\n",
    "Now that we have done the chunk of it, lets see what we wwould have predicted with just historical data. "
   ]
  },
  {
   "cell_type": "code",
   "execution_count": 73,
   "metadata": {},
   "outputs": [
    {
     "name": "stdout",
     "output_type": "stream",
     "text": [
      "WARNING:tensorflow:float64 is not supported by many models, consider casting to float32.\n",
      "INFO:tensorflow:Using default config.\n",
      "WARNING:tensorflow:Using temporary folder as model directory: /tmp/tmpel24_5r3\n",
      "INFO:tensorflow:Using config: {'_task_type': None, '_task_id': 0, '_cluster_spec': <tensorflow.python.training.server_lib.ClusterSpec object at 0x7f503a3dd4a8>, '_master': '', '_num_ps_replicas': 0, '_num_worker_replicas': 0, '_environment': 'local', '_is_chief': True, '_evaluation_master': '', '_tf_config': gpu_options {\n",
      "  per_process_gpu_memory_fraction: 1.0\n",
      "}\n",
      ", '_tf_random_seed': None, '_save_summary_steps': 100, '_save_checkpoints_secs': 600, '_log_step_count_steps': 100, '_session_config': None, '_save_checkpoints_steps': None, '_keep_checkpoint_max': 5, '_keep_checkpoint_every_n_hours': 10000, '_model_dir': '/tmp/tmpel24_5r3'}\n",
      "WARNING:tensorflow:float64 is not supported by many models, consider casting to float32.\n",
      "WARNING:tensorflow:float64 is not supported by many models, consider casting to float32.\n",
      "INFO:tensorflow:Create CheckpointSaverHook.\n",
      "INFO:tensorflow:Saving checkpoints for 1 into /tmp/tmpel24_5r3/model.ckpt.\n",
      "INFO:tensorflow:loss = 203343780.0, step = 1\n",
      "INFO:tensorflow:global_step/sec: 47.0186\n",
      "INFO:tensorflow:loss = 302438.6, step = 101 (2.128 sec)\n",
      "INFO:tensorflow:global_step/sec: 44.6829\n",
      "INFO:tensorflow:loss = 200140.36, step = 201 (2.238 sec)\n",
      "INFO:tensorflow:global_step/sec: 50.5155\n",
      "INFO:tensorflow:loss = 217849.84, step = 301 (1.979 sec)\n",
      "INFO:tensorflow:global_step/sec: 50.2121\n",
      "INFO:tensorflow:loss = 107686.47, step = 401 (1.992 sec)\n",
      "INFO:tensorflow:global_step/sec: 49.7104\n",
      "INFO:tensorflow:loss = 229151.84, step = 501 (2.011 sec)\n",
      "INFO:tensorflow:global_step/sec: 50.2068\n",
      "INFO:tensorflow:loss = 319242.3, step = 601 (1.997 sec)\n",
      "INFO:tensorflow:global_step/sec: 48.9709\n",
      "INFO:tensorflow:loss = 49882.715, step = 701 (2.037 sec)\n",
      "INFO:tensorflow:global_step/sec: 50.3038\n",
      "INFO:tensorflow:loss = 77086.984, step = 801 (1.989 sec)\n",
      "INFO:tensorflow:global_step/sec: 49.994\n",
      "INFO:tensorflow:loss = 48021.273, step = 901 (1.999 sec)\n",
      "INFO:tensorflow:Saving checkpoints for 1000 into /tmp/tmpel24_5r3/model.ckpt.\n",
      "INFO:tensorflow:Loss for final step: 62077.152.\n",
      "WARNING:tensorflow:float64 is not supported by many models, consider casting to float32.\n",
      "INFO:tensorflow:Restoring parameters from /tmp/tmpel24_5r3/model.ckpt-1000\n",
      "WARNING:tensorflow:float64 is not supported by many models, consider casting to float32.\n",
      "INFO:tensorflow:Restoring parameters from /tmp/tmpel24_5r3/model.ckpt-1000\n"
     ]
    },
    {
     "name": "stderr",
     "output_type": "stream",
     "text": [
      "/home/thomas/anaconda3/lib/python3.6/site-packages/ipykernel_launcher.py:17: SettingWithCopyWarning: \n",
      "A value is trying to be set on a copy of a slice from a DataFrame.\n",
      "Try using .loc[row_indexer,col_indexer] = value instead\n",
      "\n",
      "See the caveats in the documentation: http://pandas.pydata.org/pandas-docs/stable/indexing.html#indexing-view-versus-copy\n"
     ]
    }
   ],
   "source": [
    "X_train_noNLP = X_train[['a_minus1', 'a_minus2', 'a_minus3']]\n",
    "X_test_noNLP = X_test[['a_minus1', 'a_minus2', 'a_minus3']]\n",
    "\n",
    "\n",
    "tf.reset_default_graph()\n",
    "# Create the ANN (staying basic right now)\n",
    "activation = tf.nn.softplus #[tf.nn.tanh, tf.nn.relu, tf.nn.relu, tf.nn.relu, tf.nn.relu]\n",
    "\n",
    "feature_cols = tf.contrib.learn.infer_real_valued_columns_from_input(X_train_noNLP)\n",
    "dnn_reg = tf.contrib.learn.DNNRegressor(hidden_units=[500, 300, 200, 100],\n",
    "                                        feature_columns=feature_cols,\n",
    "                                       activation_fn = activation)\n",
    "dnn_reg = tf.contrib.learn.SKCompat(dnn_reg)\n",
    "dnn_reg.fit(X_train_noNLP, y_train['adj_close'], batch_size=100, steps=1000)\n",
    "\n",
    "y_train['predictions_noNLP'] = dnn_reg.predict(X_train_noNLP)['scores']\n",
    "y_test['predictions_noNLP'] = dnn_reg.predict(X_test_noNLP)['scores']"
   ]
  },
  {
   "cell_type": "code",
   "execution_count": 83,
   "metadata": {},
   "outputs": [
    {
     "data": {
      "image/png": "[encoded data removed]",
      "text/plain": [
       "<Figure size 1080x864 with 4 Axes>"
      ]
     },
     "metadata": {},
     "output_type": "display_data"
    }
   ],
   "source": [
    "plot_results(y_train, y_test, dateline=True, title='Predictions with No NLP', predictions='predictions_noNLP')"
   ]
  },
  {
   "cell_type": "code",
   "execution_count": 86,
   "metadata": {},
   "outputs": [
    {
     "data": {
      "text/plain": [
       "[<matplotlib.lines.Line2D at 0x7f5039bb2588>]"
      ]
     },
     "execution_count": 86,
     "metadata": {},
     "output_type": "execute_result"
    },
    {
     "data": {
      "image/png": "[encoded data removed]",
      "text/plain": [
       "<Figure size 720x576 with 1 Axes>"
      ]
     },
     "metadata": {},
     "output_type": "display_data"
    }
   ],
   "source": [
    "f, ax  = plt.subplots(figsize=(10, 8))\n",
    "\n",
    "ax.plot(y_train['actual_date'], y_train['predictions'], label='with NLP')\n",
    "ax.plot(y_train['actual_date'], y_train['predictions_noNLP'], label='no NLP')"
   ]
  },
  {
   "cell_type": "markdown",
   "metadata": {},
   "source": [
    "# NLP ONLY"
   ]
  },
  {
   "cell_type": "code",
   "execution_count": 82,
   "metadata": {},
   "outputs": [
    {
     "name": "stdout",
     "output_type": "stream",
     "text": [
      "p_minus1\n",
      "s_minus1\n",
      "a_minus1\n",
      "p_minus2\n",
      "s_minus2\n",
      "a_minus2\n",
      "p_minus3\n",
      "s_minus3\n",
      "a_minus3\n"
     ]
    }
   ],
   "source": [
    "for c in X_train.co"
   ]
  },
  {
   "cell_type": "code",
   "execution_count": 93,
   "metadata": {},
   "outputs": [
    {
     "name": "stdout",
     "output_type": "stream",
     "text": [
      "(1967, 1512) (1967, 4)\n"
     ]
    }
   ],
   "source": [
    "print(X_train.shape, y_train.shape)"
   ]
  },
  {
   "cell_type": "code",
   "execution_count": 95,
   "metadata": {},
   "outputs": [
    {
     "name": "stdout",
     "output_type": "stream",
     "text": [
      "(252, 1512) (252, 4)\n"
     ]
    }
   ],
   "source": [
    "print(X_test.shape, y_test.shape)"
   ]
  },
  {
   "cell_type": "code",
   "execution_count": 87,
   "metadata": {},
   "outputs": [
    {
     "name": "stdout",
     "output_type": "stream",
     "text": [
      "p_minus1\n"
     ]
    }
   ],
   "source": [
    "print('p_minus1')"
   ]
  },
  {
   "cell_type": "code",
   "execution_count": 88,
   "metadata": {},
   "outputs": [
    {
     "data": {
      "text/plain": [
       "['p_minus1', 'p_minus2', 'p_minus3', 's_minus1', 's_minus2', 's_minus3']"
      ]
     },
     "execution_count": 88,
     "metadata": {},
     "output_type": "execute_result"
    }
   ],
   "source": [
    "omitted"
   ]
  },
  {
   "cell_type": "code",
   "execution_count": 96,
   "metadata": {},
   "outputs": [
    {
     "name": "stdout",
     "output_type": "stream",
     "text": [
      "['p_minus1', 'p_minus2', 'p_minus3', 's_minus1', 's_minus2', 's_minus3']\n",
      "WARNING:tensorflow:float64 is not supported by many models, consider casting to float32.\n",
      "INFO:tensorflow:Using default config.\n",
      "WARNING:tensorflow:Using temporary folder as model directory: /tmp/tmpd584ad63\n",
      "INFO:tensorflow:Using config: {'_task_type': None, '_task_id': 0, '_cluster_spec': <tensorflow.python.training.server_lib.ClusterSpec object at 0x7f5039be28d0>, '_master': '', '_num_ps_replicas': 0, '_num_worker_replicas': 0, '_environment': 'local', '_is_chief': True, '_evaluation_master': '', '_tf_config': gpu_options {\n",
      "  per_process_gpu_memory_fraction: 1.0\n",
      "}\n",
      ", '_tf_random_seed': None, '_save_summary_steps': 100, '_save_checkpoints_secs': 600, '_log_step_count_steps': 100, '_session_config': None, '_save_checkpoints_steps': None, '_keep_checkpoint_max': 5, '_keep_checkpoint_every_n_hours': 10000, '_model_dir': '/tmp/tmpd584ad63'}\n",
      "WARNING:tensorflow:float64 is not supported by many models, consider casting to float32.\n",
      "WARNING:tensorflow:float64 is not supported by many models, consider casting to float32.\n",
      "INFO:tensorflow:Create CheckpointSaverHook.\n",
      "INFO:tensorflow:Saving checkpoints for 1 into /tmp/tmpd584ad63/model.ckpt.\n",
      "INFO:tensorflow:loss = 209164530.0, step = 1\n",
      "INFO:tensorflow:global_step/sec: 18.7914\n",
      "INFO:tensorflow:loss = 310513.1, step = 101 (5.322 sec)\n",
      "INFO:tensorflow:global_step/sec: 19.6244\n",
      "INFO:tensorflow:loss = 217715.52, step = 201 (5.096 sec)\n",
      "INFO:tensorflow:global_step/sec: 19.3652\n",
      "INFO:tensorflow:loss = 368441.2, step = 301 (5.164 sec)\n",
      "INFO:tensorflow:global_step/sec: 19.9651\n",
      "INFO:tensorflow:loss = 204274.3, step = 401 (5.008 sec)\n",
      "INFO:tensorflow:global_step/sec: 19.0769\n",
      "INFO:tensorflow:loss = 321440.84, step = 501 (5.242 sec)\n",
      "INFO:tensorflow:global_step/sec: 18.9604\n",
      "INFO:tensorflow:loss = 370869.1, step = 601 (5.277 sec)\n",
      "INFO:tensorflow:global_step/sec: 20.145\n",
      "INFO:tensorflow:loss = 156973.94, step = 701 (4.961 sec)\n",
      "INFO:tensorflow:global_step/sec: 20.3967\n",
      "INFO:tensorflow:loss = 130414.88, step = 801 (4.902 sec)\n",
      "INFO:tensorflow:global_step/sec: 20.3488\n",
      "INFO:tensorflow:loss = 105352.73, step = 901 (4.914 sec)\n",
      "INFO:tensorflow:Saving checkpoints for 1000 into /tmp/tmpd584ad63/model.ckpt.\n",
      "INFO:tensorflow:Loss for final step: 90888.67.\n",
      "WARNING:tensorflow:float64 is not supported by many models, consider casting to float32.\n",
      "INFO:tensorflow:Restoring parameters from /tmp/tmpd584ad63/model.ckpt-1000\n",
      "WARNING:tensorflow:float64 is not supported by many models, consider casting to float32.\n",
      "INFO:tensorflow:Restoring parameters from /tmp/tmpd584ad63/model.ckpt-1000\n"
     ]
    },
    {
     "name": "stderr",
     "output_type": "stream",
     "text": [
      "/home/thomas/anaconda3/lib/python3.6/site-packages/ipykernel_launcher.py:20: SettingWithCopyWarning: \n",
      "A value is trying to be set on a copy of a slice from a DataFrame.\n",
      "Try using .loc[row_indexer,col_indexer] = value instead\n",
      "\n",
      "See the caveats in the documentation: http://pandas.pydata.org/pandas-docs/stable/indexing.html#indexing-view-versus-copy\n"
     ]
    }
   ],
   "source": [
    "omitted = ['p_minus' +str(i+1) for i in range(3)]\n",
    "omitted.extend(['s_minus' + str(i+1) for i in range(3)])\n",
    "print(omitted)\n",
    "\n",
    "X_train_noSent = X_train[[c for c in X_train.columns if c not in omitted]].copy()\n",
    "X_test_noSent   = X_test[[c for c in X_test.columns if c not in omitted]].copy()\n",
    "\n",
    "tf.reset_default_graph()\n",
    "# Create the ANN (staying basic right now)\n",
    "activation = tf.nn.softplus #[tf.nn.tanh, tf.nn.relu, tf.nn.relu, tf.nn.relu, tf.nn.relu]\n",
    "\n",
    "feature_cols = tf.contrib.learn.infer_real_valued_columns_from_input(X_train_noSent)\n",
    "dnn_reg = tf.contrib.learn.DNNRegressor(hidden_units=[500, 300, 200, 100],\n",
    "                                        feature_columns=feature_cols,\n",
    "                                       activation_fn = activation)\n",
    "dnn_reg = tf.contrib.learn.SKCompat(dnn_reg)\n",
    "dnn_reg.fit(X_train_noSent, y_train['adj_close'], batch_size=100, steps=1000)\n",
    "\n",
    "y_train['predictions_noSent'] = dnn_reg.predict(X_train_noSent)['scores']\n",
    "y_test['predictions_noSent'] = dnn_reg.predict(X_test_noSent)['scores']"
   ]
  },
  {
   "cell_type": "code",
   "execution_count": 97,
   "metadata": {},
   "outputs": [
    {
     "data": {
      "image/png": "[encoded data removed]",
      "text/plain": [
       "<Figure size 1080x864 with 4 Axes>"
      ]
     },
     "metadata": {},
     "output_type": "display_data"
    }
   ],
   "source": [
    "plot_results(y_train, y_test, dateline=False, title='Predictions with No Sentiment Analysis', predictions='predictions_noSent')"
   ]
  },
  {
   "cell_type": "code",
   "execution_count": null,
   "metadata": {
    "collapsed": true
   },
   "outputs": [],
   "source": []
  },
  {
   "cell_type": "code",
   "execution_count": 123,
   "metadata": {},
   "outputs": [
    {
     "data": {
      "text/plain": [
       "Text(0.5,1,'NLP, With Sentiment, R2=0.742')"
      ]
     },
     "execution_count": 123,
     "metadata": {},
     "output_type": "execute_result"
    },
    {
     "data": {
      "image/png": "[encoded data removed]",
      "text/plain": [
       "<Figure size 720x576 with 3 Axes>"
      ]
     },
     "metadata": {},
     "output_type": "display_data"
    }
   ],
   "source": [
    "date = y_test.actual_date.min() + timedelta(days=3)\n",
    "\n",
    "r21 = round(r2_score(y_test.adj_close, y_test.predictions_noNLP), 3)\n",
    "r22 = round(r2_score(y_test.adj_close, y_test.predictions), 3)\n",
    "r23 = round(r2_score(y_test.adj_close, y_test.predictions_noSent), 3)\n",
    "\n",
    "\n",
    "line_x = [date, date]\n",
    "line_y1 = [min(y_test.predictions - y_test.adj_close), max(y_test.predictions - y_test.adj_close)]\n",
    "\n",
    "\n",
    "f, [ax1, ax2, ax3] = plt.subplots(figsize=(10,8), nrows=3, sharey=True, sharex=True)\n",
    "ax1.plot(y_test['actual_date'], y_test['predictions_noNLP'] - y_test['adj_close'])\n",
    "ax3.plot(y_test['actual_date'], y_test['predictions'] - y_test['adj_close'])\n",
    "ax2.plot(y_test['actual_date'], y_test['predictions_noSent'] - y_test['adj_close'])\n",
    "\n",
    "ax1.plot(line_x, line_y1, 'k--')\n",
    "ax3.plot(line_x, line_y1, 'k--')\n",
    "ax2.plot(line_x, line_y1, 'k--')\n",
    "\n",
    "ax1.set_ylabel(r'$\\Delta y$', fontsize=15)\n",
    "ax3.set_ylabel(r'$\\Delta y$', fontsize=15)\n",
    "ax2.set_ylabel(r'$\\Delta y$', fontsize=15)\n",
    "ax3.set_xlabel('Date', fontsize=16)\n",
    "\n",
    "ax1.set_title('No NLP, R2=' + str(r21), fontsize=16)\n",
    "ax2.set_title('NLP, No Sentiment, R2=' + str(r23), fontsize=16)\n",
    "ax3.set_title('NLP, With Sentiment, R2=' + str(r22), fontsize=16)\n"
   ]
  },
  {
   "cell_type": "code",
   "execution_count": null,
   "metadata": {
    "collapsed": true
   },
   "outputs": [],
   "source": [
    "plot_results(predictions_30days[0], predictions_30days[1], title='T - 30 days')"
   ]
  },
  {
   "cell_type": "markdown",
   "metadata": {},
   "source": [
    "## Notes on this : \n",
    "\n",
    "All this seems to have worked quite well, but there is an issue.  Because we are splitting on random instances/dates, we are effectively modeling at the random states. To get an idea if our model works, we should should split it time-wise.  Meaning we use a train-test split based on the date, so that we see if we can predict future values. "
   ]
  },
  {
   "cell_type": "code",
   "execution_count": null,
   "metadata": {
    "collapsed": true
   },
   "outputs": [],
   "source": [
    "def split_by_date(df, seed=42):\n",
    "    # Do a train test split on the data and, keep the date \n",
    "    # so that we can reorder for future use. \n",
    "    \n",
    "    date = df.date.max() - timedelta(days=90)\n",
    "    \n",
    "    training = df[df.date <= date]\n",
    "    testing  = df[df.date > date]\n",
    "    \n",
    "    X_train = training['news']\n",
    "    y_train = training[['date', 'adj_close']]\n",
    "    \n",
    "    X_test = testing['news']\n",
    "    y_test = testing[['date', 'adj_close']]\n",
    "    \n",
    "    return [X_train, X_test, y_train, y_test]\n",
    "\n",
    "def automated_split_by_date(results_df,\n",
    "                            seed=42,\n",
    "                            min_df=0.2,\n",
    "                            steps=2000,\n",
    "                            batch_size=50, \n",
    "                            savefile_train=None,\n",
    "                            savefile_test=None):\n",
    "    \n",
    "    X_train, X_test, y_train, y_test= split_by_date(results_df, seed=seed)\n",
    "    \n",
    "    Vectorizer        = vectorize(X_train, min_df=min_df)    \n",
    "    train_df, X_train = transform_text(X_train, y_train, Vectorizer, savefile=savefile_train)\n",
    "    test_df,  X_test  = transform_text(X_test, y_test, Vectorizer, savefile_test)\n",
    "\n",
    "    model = make_NN(X_train, y_train, batch_size=batch_size, steps=steps)\n",
    "    \n",
    "    train_df = make_results(model, X_train, y_train)\n",
    "    test_df = make_results(model, X_test, y_test)\n",
    "    \n",
    "    \n",
    "    return [train_df, test_df, Vectorizer]  "
   ]
  },
  {
   "cell_type": "code",
   "execution_count": null,
   "metadata": {
    "collapsed": true
   },
   "outputs": [],
   "source": [
    "#predictions_20days_bydate = automated_split_by_date(results_20days, min_df=0.2, batch_size=100, steps=1000)\n",
    "#predictions_10days_bydate = automated_split_by_date(results_10days, min_df=0.2, batch_size=100, steps=1000)\n",
    "predictions_30days_bydate = automated_split_by_date(results_30days, min_df=0.2, batch_size=50, steps=2000)"
   ]
  },
  {
   "cell_type": "code",
   "execution_count": null,
   "metadata": {
    "collapsed": true
   },
   "outputs": [],
   "source": [
    "plot_results(predictions_30days_bydate[0], predictions_30days_bydate[1], title='T - 30 days', dateline=True, ndays=30)"
   ]
  },
  {
   "cell_type": "markdown",
   "metadata": {},
   "source": [
    "## With Keras"
   ]
  },
  {
   "cell_type": "code",
   "execution_count": null,
   "metadata": {
    "collapsed": true
   },
   "outputs": [],
   "source": []
  }
 ],
 "metadata": {
  "kernelspec": {
   "display_name": "Python 3",
   "language": "python",
   "name": "python3"
  },
  "language_info": {
   "codemirror_mode": {
    "name": "ipython",
    "version": 3
   },
   "file_extension": ".py",
   "mimetype": "text/x-python",
   "name": "python",
   "nbconvert_exporter": "python",
   "pygments_lexer": "ipython3",
   "version": "3.6.1"
  }
 },
 "nbformat": 4,
 "nbformat_minor": 2
}
